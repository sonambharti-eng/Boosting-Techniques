{
  "nbformat": 4,
  "nbformat_minor": 0,
  "metadata": {
    "colab": {
      "provenance": []
    },
    "kernelspec": {
      "name": "python3",
      "display_name": "Python 3"
    },
    "language_info": {
      "name": "python"
    }
  },
  "cells": [
    {
      "cell_type": "markdown",
      "source": [
        "#Theoretical Questions"
      ],
      "metadata": {
        "id": "ZNw3CVQmCD7-"
      }
    },
    {
      "cell_type": "markdown",
      "source": [
        "###QUES.1 What is Boosting in Machine Learning?"
      ],
      "metadata": {
        "id": "XhUfhP5VCrqq"
      }
    },
    {
      "cell_type": "markdown",
      "source": [
        "###ANS.1 **Boosting** is an ensemble learning technique in machine learning that combines multiple weak learners (typically decision trees) to create a strong learner. The core idea behind boosting is to focus on the errors made by previous models and adjust the learning process to correct these mistakes. Here's how it works:\n",
        "\n",
        "1. **Weak Learners**: Boosting typically uses simple models (weak learners), like small decision trees, which on their own may not perform very well. The goal is to combine many of these weak models to form a stronger, more accurate model.\n",
        "\n",
        "2. **Iterative Process**: Boosting builds models sequentially. Each new model is trained to correct the errors of the previous model. For each iteration, the algorithm adjusts the weights of the incorrectly predicted data points, making them more important for the next model.\n",
        "\n",
        "3. **Weight Adjustment**: After each model is trained, the weights of the misclassified samples are increased, meaning the next model in the sequence will focus more on the data points that the previous model got wrong. This makes boosting effective in reducing bias and improving the model's overall accuracy.\n",
        "\n",
        "4. **Combining Models**: The final model is a weighted combination of all the weak models, where each model's contribution is based on its accuracy. Models that perform well have more influence on the final prediction.\n",
        "\n",
        "### Popular Boosting Algorithms:\n",
        "\n",
        "1. **AdaBoost (Adaptive Boosting)**: This was one of the first boosting algorithms. In AdaBoost, each model is given a weight based on its performance, and misclassified samples are given higher weights for the next iteration.\n",
        "\n",
        "2. **Gradient Boosting**: Instead of focusing on individual misclassified data points, gradient boosting tries to minimize a loss function by fitting a new model to the residual errors of the current ensemble of models.\n",
        "\n",
        "3. **XGBoost (Extreme Gradient Boosting)**: An optimized and faster implementation of gradient boosting, known for its efficiency and high performance.\n",
        "\n",
        "4. **LightGBM (Light Gradient Boosting Machine)**: A more efficient variant of gradient boosting, designed to handle large datasets with faster training times and lower memory usage.\n",
        "\n",
        "### Key Characteristics of Boosting:\n",
        "\n",
        "- **Accuracy Improvement**: Boosting often results in models with high accuracy, even with simple base learners.\n",
        "- **Prevents Overfitting**: While boosting can be prone to overfitting in some cases, techniques like early stopping or regularization can prevent this.\n",
        "- **Sequential Learning**: The models are built in a sequence, not parallelly, with each model improving upon the last.\n",
        "\n",
        "Boosting is widely used in practice due to its ability to handle complex datasets, and it has been very successful in many machine learning competitions, including Kaggle challenges."
      ],
      "metadata": {
        "id": "3H5C5Jh8DJCF"
      }
    },
    {
      "cell_type": "markdown",
      "source": [
        "###QUES.2 How does Boosting differ from Bagging?"
      ],
      "metadata": {
        "id": "utyc6EH7DXES"
      }
    },
    {
      "cell_type": "markdown",
      "source": [
        "###ANS.2 Boosting and Bagging are both ensemble learning techniques, but they differ in how they build and combine the models. Here's a breakdown of the differences:\n",
        "\n",
        "### 1. **Method of Model Construction:**\n",
        "\n",
        "- **Bagging (Bootstrap Aggregating):**\n",
        "  - **Parallel Training**: Bagging involves training multiple models (typically the same type of model, like decision trees) independently and in parallel.\n",
        "  - **Data Sampling**: Each model is trained on a random subset of the training data, with replacement (bootstrap sampling).\n",
        "  - **Final Prediction**: The predictions from all the models are combined (usually by voting for classification or averaging for regression).\n",
        "  - **Goal**: Bagging aims to reduce variance by averaging the results of multiple models, which leads to more stable predictions.\n",
        "\n",
        "- **Boosting:**\n",
        "  - **Sequential Training**: Boosting trains models sequentially, with each new model being trained to correct the errors made by the previous ones.\n",
        "  - **Weighted Data**: In boosting, the data points that were misclassified by previous models are given more weight, so the next model focuses more on those.\n",
        "  - **Final Prediction**: The predictions of all the models are combined, typically through a weighted vote (for classification) or a weighted sum (for regression).\n",
        "  - **Goal**: Boosting aims to reduce bias and variance by focusing on improving the performance of weak models (often decision trees) in a sequential manner.\n",
        "\n",
        "### 2. **Error Correction:**\n",
        "- **Bagging**: Since each model is trained independently, there’s no direct error correction between models. The goal is to reduce variance by using multiple models.\n",
        "- **Boosting**: Models are trained in sequence, and each new model is focused on correcting the errors (misclassifications) made by previous models.\n",
        "\n",
        "### 3. **Bias and Variance:**\n",
        "- **Bagging**: Primarily helps to reduce variance. Since the models are trained independently, it doesn’t necessarily address bias.\n",
        "- **Boosting**: Helps to reduce both bias and variance. The iterative approach allows boosting to improve the performance of weak models and correct mistakes.\n",
        "\n",
        "### 4. **Model Weighting:**\n",
        "- **Bagging**: All models are typically given equal weight when combining predictions.\n",
        "- **Boosting**: Models are weighted differently, with models that perform well contributing more to the final prediction.\n",
        "\n",
        "### 5. **Overfitting:**\n",
        "- **Bagging**: Generally, bagging helps to reduce the risk of overfitting, especially when using high-variance models like decision trees.\n",
        "- **Boosting**: Boosting has a higher risk of overfitting, especially if too many models are added or if the models are too complex.\n",
        "\n",
        "### 6. **Examples:**\n",
        "- **Bagging**: Random Forests (using decision trees as base models).\n",
        "- **Boosting**: AdaBoost, Gradient Boosting Machines (GBM), XGBoost.\n",
        "\n",
        "### Summary:\n",
        "\n",
        "- **Bagging** is about combining multiple independent models to reduce variance and make the model more stable.\n",
        "- **Boosting** focuses on correcting errors from previous models to reduce both bias and variance, improving weak learners sequentially.\n",
        "\n"
      ],
      "metadata": {
        "id": "QvvczntCDka_"
      }
    },
    {
      "cell_type": "markdown",
      "source": [
        "###QUES.3 What is the key idea behind AdaBoost?"
      ],
      "metadata": {
        "id": "FNtwWRhdD8mE"
      }
    },
    {
      "cell_type": "markdown",
      "source": [
        "###ANS.3 The key idea behind **AdaBoost (Adaptive Boosting)** is to improve the performance of weak classifiers by combining them into a strong classifier. It does so by focusing more on the examples that are difficult to classify correctly, gradually adjusting the weights of the training samples based on the previous weak classifiers' performance. Here's a more detailed breakdown:\n",
        "\n",
        "1. **Weak Classifiers**: AdaBoost starts with a weak classifier, which is a model that performs slightly better than random guessing. A common choice is a simple decision tree (like a stumps), but it could be any weak model.\n",
        "\n",
        "2. **Weighted Training Samples**: In each iteration, AdaBoost assigns a weight to each training example. Initially, all training examples are given equal weight.\n",
        "\n",
        "3. **Focus on Misclassified Samples**: After each weak classifier is trained, AdaBoost increases the weights of the misclassified samples, so the next classifier will focus more on those examples. This allows the model to adapt and improve over time.\n",
        "\n",
        "4. **Combination of Classifiers**: AdaBoost then combines the weak classifiers by weighting them according to their accuracy. More accurate classifiers receive higher weights in the final ensemble.\n",
        "\n",
        "5. **Final Prediction**: The final prediction is made by aggregating the predictions from all weak classifiers, where the classifiers with higher weights have a stronger influence on the final decision.\n",
        "\n",
        "The idea behind AdaBoost is that by focusing on hard-to-classify examples and iteratively combining weak learners, it creates a strong model that is much more accurate than any individual weak classifier. This results in an efficient and powerful boosting technique that works well for both classification and regression tasks."
      ],
      "metadata": {
        "id": "zarIu4u3EGPU"
      }
    },
    {
      "cell_type": "markdown",
      "source": [
        "###QUES.4 Explain the working of AdaBoost with an example."
      ],
      "metadata": {
        "id": "1ztqfcL4EYf-"
      }
    },
    {
      "cell_type": "markdown",
      "source": [
        "###ANS.4 AdaBoost (Adaptive Boosting) is an ensemble learning technique that aims to improve the accuracy of weak classifiers by combining multiple weak learners into a strong learner. Here's a step-by-step explanation of how AdaBoost works:\n",
        "\n",
        "### Key Concepts of AdaBoost:\n",
        "- **Weak Classifier**: A classifier that performs slightly better than random guessing.\n",
        "- **Ensemble of Weak Classifiers**: AdaBoost combines multiple weak classifiers to form a strong classifier.\n",
        "- **Weighted Samples**: AdaBoost assigns more weight to the misclassified samples and focuses on correcting errors from previous iterations.\n",
        "\n",
        "### Working of AdaBoost:\n",
        "1. **Initialize Weights**:\n",
        "   - AdaBoost starts with a set of weights for each training sample. Initially, all training samples are given equal weights.\n",
        "\n",
        "2. **Train a Weak Classifier**:\n",
        "   - A weak classifier (often a decision tree stump, which is a decision tree with just one split) is trained using the weighted samples.\n",
        "   - The weak classifier tries to predict the labels of the training data.\n",
        "\n",
        "3. **Calculate Error**:\n",
        "   - The error rate of the classifier is computed. This error is the sum of the weights of the misclassified samples divided by the total sum of the weights.\n",
        "\n",
        "   \\[\n",
        "   \\text{Error} = \\frac{\\sum_{\\text{misclassified samples}} \\text{weight of the sample}}{\\sum_{\\text{all samples}} \\text{weight of the sample}}\n",
        "   \\]\n",
        "\n",
        "4. **Compute the Classifier’s Weight**:\n",
        "   - AdaBoost assigns a weight to the classifier based on its performance. If the classifier has a low error, it will have a high weight, meaning it's given more importance in the final decision.\n",
        "   - The weight is computed using the formula:\n",
        "\n",
        "   \\[\n",
        "   \\alpha = \\frac{1}{2} \\ln \\left( \\frac{1 - \\text{error}}{\\text{error}} \\right)\n",
        "   \\]\n",
        "\n",
        "5. **Update Weights of Misclassified Samples**:\n",
        "   - The weights of the misclassified samples are increased, while the correctly classified samples have their weights decreased. This forces the algorithm to focus more on the hard-to-classify samples in the next round.\n",
        "\n",
        "   \\[\n",
        "   \\text{New weight of misclassified sample} = \\text{Old weight} \\times \\exp(\\alpha)\n",
        "   \\]\n",
        "   \\[\n",
        "   \\text{New weight of correctly classified sample} = \\text{Old weight} \\times \\exp(-\\alpha)\n",
        "   \\]\n",
        "\n",
        "6. **Repeat the Process**:\n",
        "   - Steps 2-5 are repeated for a specified number of rounds (iterations). In each round, a new weak classifier is trained, and the sample weights are updated.\n",
        "\n",
        "7. **Final Prediction**:\n",
        "   - After the ensemble is built, the final prediction is made by taking a weighted majority vote of the weak classifiers. The weak classifiers that perform better (i.e., have smaller errors) have a larger influence on the final prediction.\n",
        "\n",
        "   \\[\n",
        "   \\text{Final Prediction} = \\text{sign}\\left( \\sum_{\\text{classifiers}} \\alpha_i \\cdot \\text{classifier}_i(x) \\right)\n",
        "   \\]\n",
        "\n",
        "   Where \\( \\alpha_i \\) is the weight of the \\(i\\)-th classifier, and \\( \\text{classifier}_i(x) \\) is the prediction of the \\(i\\)-th classifier for the input \\(x\\).\n",
        "\n",
        "---\n",
        "\n",
        "### Example of AdaBoost:\n",
        "\n",
        "Let's say we have a simple binary classification problem with the following dataset of 5 samples:\n",
        "\n",
        "| Sample | Feature 1 | Feature 2 | Class |\n",
        "|--------|-----------|-----------|-------|\n",
        "| 1      | 2         | 1         | +1    |\n",
        "| 2      | 3         | 2         | -1    |\n",
        "| 3      | 1         | 3         | -1    |\n",
        "| 4      | 3         | 1         | +1    |\n",
        "| 5      | 2         | 3         | +1    |\n",
        "\n",
        "- We initialize the weights of all samples to be equal: \\( \\frac{1}{5} = 0.2 \\).\n",
        "\n",
        "### Iteration 1:\n",
        "- A weak classifier (say, a decision tree stump) is trained. It might make some mistakes, misclassifying, for example, sample 2 as +1 and sample 3 as +1.\n",
        "- The error rate of this classifier might be calculated as the total weight of misclassified samples: let's assume it's 0.4.\n",
        "- Compute the classifier’s weight \\( \\alpha_1 \\) using the formula. If the error is 0.4, \\( \\alpha_1 = \\frac{1}{2} \\ln \\left( \\frac{1 - 0.4}{0.4} \\right) = 0.423 \\).\n",
        "- The misclassified samples (2 and 3) will have their weights increased, and the correctly classified samples (1, 4, and 5) will have their weights decreased.\n",
        "\n",
        "### Iteration 2:\n",
        "- A second weak classifier is trained on the updated weights. This classifier might do better by focusing on the misclassified samples from the first iteration.\n",
        "- The error is calculated again, and the classifier's weight is updated.\n",
        "- The weights are further adjusted to give more importance to misclassified samples.\n",
        "\n",
        "### Final Prediction:\n",
        "- After several iterations, AdaBoost combines all the weak classifiers. The final decision is based on a weighted vote from each classifier, where those with lower error rates have more influence.\n",
        "\n",
        "---\n",
        "\n",
        "### Key Points:\n",
        "- AdaBoost adapts to errors in earlier stages by adjusting the weights of misclassified data points, focusing more on them in subsequent rounds.\n",
        "- It combines weak classifiers to form a strong classifier, often resulting in high predictive accuracy.\n",
        "- It is sensitive to noisy data and outliers, as they can have their weights increased significantly during training, making the model less robust."
      ],
      "metadata": {
        "id": "xOSKOt8BElXd"
      }
    },
    {
      "cell_type": "markdown",
      "source": [
        "###QUES.5 What is Gradient Boosting, and how is it different from AdaBoost?"
      ],
      "metadata": {
        "id": "SUgSTq9qE-mI"
      }
    },
    {
      "cell_type": "markdown",
      "source": [
        "###ANS.5 Gradient Boosting is an ensemble learning technique where multiple weak models (typically decision trees) are combined to create a strong predictive model. Unlike AdaBoost, which adjusts the weights of misclassified samples in each round, Gradient Boosting builds new models sequentially to correct the errors (residuals) made by the previous models, in a more \"gradient descent\" fashion.\n",
        "\n",
        "### How Gradient Boosting Works:\n",
        "\n",
        "1. **Initialize the Model**:\n",
        "   - The process starts by fitting a simple model (often a constant value, which can be the mean or median of the target variable for regression problems).\n",
        "\n",
        "2. **Iterative Model Building**:\n",
        "   - For each subsequent iteration, a new weak model (a decision tree) is trained to predict the **residuals** (the difference between the actual and predicted values from the previous models).\n",
        "   - The goal is to minimize the error by adding a model that reduces the residuals.\n",
        "\n",
        "3. **Model Update**:\n",
        "   - The new model's predictions are combined with the previous model’s predictions to form a new updated prediction:\n",
        "     \\[\n",
        "     \\hat{y}_{new} = \\hat{y}_{previous} + \\eta \\cdot \\text{new model's prediction}\n",
        "     \\]\n",
        "     where \\( \\eta \\) is the learning rate (a hyperparameter that controls the contribution of the new model to the final prediction).\n",
        "\n",
        "4. **Repeat**:\n",
        "   - This process repeats for a predefined number of iterations (or until the model reaches a desired level of accuracy).\n",
        "   - Each weak model helps to correct the errors made by the ensemble so far.\n",
        "\n",
        "5. **Final Prediction**:\n",
        "   - After all models are added, the final prediction is the sum of the predictions from all the weak models.\n",
        "\n",
        "### Differences Between AdaBoost and Gradient Boosting\n",
        "\n",
        "| Aspect              | **AdaBoost**                                            | **Gradient Boosting**                                      |\n",
        "|---------------------|---------------------------------------------------------|------------------------------------------------------------|\n",
        "| **Error Correction** | Focuses on adjusting weights of misclassified samples in each iteration. | Focuses on reducing the residual error (difference between predicted and actual values) of the previous model. |\n",
        "| **Model Update**     | Models are added based on errors of the previous model (misclassified samples). | Models are added based on gradients of the loss function, aiming to minimize the residuals of the previous model. |\n",
        "| **Weak Learners**    | Typically uses weak learners like decision stumps (shallow trees). | Uses decision trees (usually shallow trees) but can also employ other weak learners. |\n",
        "| **Optimization Goal**| Minimize weighted classification error.               | Minimize a loss function (e.g., Mean Squared Error for regression, Log Loss for classification). |\n",
        "| **Sample Weighting** | Adjusts weights of individual samples based on errors in each round. | Does not change sample weights but updates the model to minimize residual errors. |\n",
        "| **Sequential Process** | Sequential learning where each model focuses on correcting errors of previous models. | Sequential learning where each model focuses on improving the previous model's predictions by fitting the residuals. |\n",
        "| **Overfitting Risk** | Can overfit if the number of iterations is too large, but typically more robust to noise. | Prone to overfitting, especially if the trees are too deep or the learning rate is too high. |\n",
        "| **Type of Boosting** | Focused on re-weighting examples and combining classifiers. | Focused on minimizing the residual errors using gradient descent on a loss function. |\n",
        "\n",
        "### Key Differences Explained:\n",
        "\n",
        "1. **Error Correction Mechanism**:\n",
        "   - In **AdaBoost**, the algorithm focuses on misclassified samples, increasing their weights so that they have more influence on the next model.\n",
        "   - In **Gradient Boosting**, the algorithm focuses on fitting the residuals (errors) of the previous model. It essentially learns the gradient (derivative) of the loss function with respect to the model's predictions.\n",
        "\n",
        "2. **Weighting of Samples**:\n",
        "   - **AdaBoost** dynamically adjusts the weights of individual samples based on whether they were correctly classified or not.\n",
        "   - **Gradient Boosting** does not adjust sample weights directly but instead trains each new model to predict the residual error from the previous model.\n",
        "\n",
        "3. **Learning Rate**:\n",
        "   - **Gradient Boosting** typically includes a **learning rate**, which controls how much each new model influences the final prediction. In contrast, **AdaBoost** doesn’t use a learning rate in the same sense; it just adds a weighted vote for each classifier based on its performance.\n",
        "\n",
        "4. **Loss Function**:\n",
        "   - **Gradient Boosting** minimizes a specified loss function (such as Mean Squared Error for regression or Log Loss for classification). The new models are fit to reduce this loss function.\n",
        "   - **AdaBoost** aims to minimize the classification error rate by adjusting weights of misclassified samples.\n",
        "\n",
        "5. **Flexibility**:\n",
        "   - **Gradient Boosting** can be adapted to a variety of loss functions, making it more flexible for both regression and classification problems.\n",
        "   - **AdaBoost** is primarily designed for binary classification tasks, though it can be extended to multi-class problems.\n",
        "\n",
        "### Summary:\n",
        "\n",
        "- **AdaBoost** is more about adjusting sample weights and combining weak learners based on how well they perform, giving more focus to misclassified samples in each iteration.\n",
        "- **Gradient Boosting**, on the other hand, focuses on minimizing the residuals (or error) using gradient descent techniques, making it more flexible for both regression and classification tasks.\n",
        "\n",
        "While both methods are boosting techniques designed to improve weak learners, **Gradient Boosting** is generally more powerful and flexible but also more prone to overfitting, requiring more careful tuning (like controlling tree depth, learning rate, etc.). **AdaBoost** is simpler and tends to perform well for classification tasks, especially when data is less noisy."
      ],
      "metadata": {
        "id": "CjL6pws2FfSi"
      }
    },
    {
      "cell_type": "markdown",
      "source": [
        "###QUES.6 What is the loss function in Gradient Boosting?"
      ],
      "metadata": {
        "id": "ncUs4kWqF-_2"
      }
    },
    {
      "cell_type": "markdown",
      "source": [
        "###ANS.6 In **Gradient Boosting**, the **loss function** is a critical component that drives the learning process. It measures the difference between the predicted values and the actual target values, guiding the model in each iteration to correct its errors.\n",
        "\n",
        "### General Structure of Loss Function in Gradient Boosting:\n",
        "\n",
        "The key idea behind Gradient Boosting is that each new model (usually a decision tree) is trained to reduce the residuals (errors) of the previous model. The loss function is used to quantify how much error or \"loss\" exists at each step, and the model's goal is to minimize this loss.\n",
        "\n",
        "### Types of Loss Functions in Gradient Boosting:\n",
        "\n",
        "Depending on the task (regression or classification), the **loss function** varies:\n",
        "\n",
        "#### 1. **For Regression:**\n",
        "\n",
        "- **Mean Squared Error (MSE)** is the most commonly used loss function for regression tasks in Gradient Boosting. The MSE loss function is defined as:\n",
        "\n",
        "\\[\n",
        "\\text{MSE} = \\frac{1}{n} \\sum_{i=1}^{n} (y_i - \\hat{y}_i)^2\n",
        "\\]\n",
        "\n",
        "Where:\n",
        "- \\( y_i \\) is the true target value for the \\(i\\)-th sample,\n",
        "- \\( \\hat{y}_i \\) is the predicted value for the \\(i\\)-th sample,\n",
        "- \\( n \\) is the number of samples.\n",
        "\n",
        "MSE calculates the square of the difference between the true value and the predicted value, which is then averaged over all the data points.\n",
        "\n",
        "In the context of Gradient Boosting, the residuals (errors) from the previous model are minimized by each new weak learner (a decision tree), and the loss function helps in determining the direction of the gradient for model updates.\n",
        "\n",
        "#### 2. **For Classification:**\n",
        "\n",
        "For classification tasks, especially binary classification, different loss functions are used:\n",
        "\n",
        "- **Log Loss (Cross-Entropy Loss)** for Binary Classification:\n",
        "\n",
        "\\[\n",
        "\\text{Log Loss} = - \\frac{1}{n} \\sum_{i=1}^{n} \\left[ y_i \\log(\\hat{y}_i) + (1 - y_i) \\log(1 - \\hat{y}_i) \\right]\n",
        "\\]\n",
        "\n",
        "Where:\n",
        "- \\( y_i \\) is the true binary label (either 0 or 1) for the \\(i\\)-th sample,\n",
        "- \\( \\hat{y}_i \\) is the predicted probability that the sample belongs to class 1.\n",
        "\n",
        "Log loss measures the \"distance\" between the true labels and predicted probabilities for each sample, penalizing wrong predictions more heavily.\n",
        "\n",
        "- **Multiclass Classification Loss**:\n",
        "\n",
        "For multiclass classification, **Softmax** combined with **Cross-Entropy** is used:\n",
        "\n",
        "\\[\n",
        "\\text{Cross-Entropy Loss} = - \\sum_{i=1}^{n} \\sum_{c=1}^{C} y_{ic} \\log(\\hat{y}_{ic})\n",
        "\\]\n",
        "\n",
        "Where:\n",
        "- \\( C \\) is the number of classes,\n",
        "- \\( y_{ic} \\) is the indicator (0 or 1) if class label \\(c\\) is the correct classification for sample \\(i\\),\n",
        "- \\( \\hat{y}_{ic} \\) is the predicted probability of sample \\(i\\) belonging to class \\(c\\).\n",
        "\n",
        "This approach is used when there are more than two classes to predict.\n",
        "\n",
        "### How the Loss Function is Used in Gradient Boosting:\n",
        "\n",
        "1. **Initialization**:\n",
        "   - The first model (often a constant) is trained on the data, and the prediction is made.\n",
        "   - For regression, this is often just the mean of the target values, and for classification, it might be the log-odds of the classes.\n",
        "\n",
        "2. **Gradient Calculation**:\n",
        "   - The gradient of the loss function with respect to the current prediction is computed. This represents the direction in which the loss function will decrease most rapidly (i.e., the direction in which the model should adjust its predictions to minimize error).\n",
        "   \n",
        "3. **Fit a Weak Learner**:\n",
        "   - A new weak learner (often a small decision tree) is trained on the residuals (errors) from the previous model, which are the gradients of the loss function.\n",
        "\n",
        "4. **Update the Model**:\n",
        "   - The predictions from the new weak learner are combined with the previous model's predictions, adjusted by the learning rate to reduce the residuals (errors).\n",
        "\n",
        "5. **Repeat**:\n",
        "   - This process repeats for a set number of iterations or until the residuals are sufficiently minimized.\n",
        "\n",
        "### Summary of the Loss Function in Gradient Boosting:\n",
        "\n",
        "- **For Regression**: Typically uses **Mean Squared Error (MSE)** as the loss function, which measures the squared differences between actual and predicted values.\n",
        "- **For Binary Classification**: Uses **Log Loss (Cross-Entropy Loss)**, which penalizes the difference between the true labels and predicted probabilities.\n",
        "- **For Multiclass Classification**: Uses **Cross-Entropy Loss** combined with the **Softmax function**, which works for problems where more than two classes exist.\n",
        "\n",
        "The loss function plays a crucial role in Gradient Boosting because it determines how well the model is learning at each stage and guides the algorithm in making updates to improve its performance."
      ],
      "metadata": {
        "id": "nj-ogZoEGla9"
      }
    },
    {
      "cell_type": "markdown",
      "source": [
        "###QUES.7 How does XGBoost improve over traditional Gradient Boosting?"
      ],
      "metadata": {
        "id": "PxUIcuKAA8IL"
      }
    },
    {
      "cell_type": "markdown",
      "source": [
        "###ANS.7 XGBoost (Extreme Gradient Boosting) improves over traditional Gradient Boosting in several key ways, making it faster, more efficient, and capable of delivering better performance. Here are the main improvements:\n",
        "\n",
        "1. **Regularization**:\n",
        "   - **Traditional Gradient Boosting**: Typically lacks explicit regularization mechanisms, which can lead to overfitting, especially on noisy datasets.\n",
        "   - **XGBoost**: Introduces both **L1 (Lasso)** and **L2 (Ridge)** regularization to control the complexity of the model. This helps prevent overfitting and improves the generalization of the model.\n",
        "\n",
        "2. **Parallelization**:\n",
        "   - **Traditional Gradient Boosting**: Processes trees sequentially, meaning one tree is built at a time, making it relatively slow.\n",
        "   - **XGBoost**: Utilizes **parallelization** during the tree construction process, allowing multiple computations to happen at the same time, which significantly speeds up training.\n",
        "\n",
        "3. **Handling Missing Data**:\n",
        "   - **Traditional Gradient Boosting**: Can struggle with missing data, often requiring imputation or dropping rows/columns.\n",
        "   - **XGBoost**: Has built-in support for **missing values**. During the construction of decision trees, it can handle missing data by learning the best way to deal with them.\n",
        "\n",
        "4. **Tree Pruning**:\n",
        "   - **Traditional Gradient Boosting**: Uses a pre-defined maximum depth of the tree (early stopping criteria) and does not have an efficient pruning strategy.\n",
        "   - **XGBoost**: Uses **post-pruning**, which is more efficient and helps to prevent overfitting by cutting off branches that do not add much to the predictive power of the model. It uses the **max_depth** parameter to control tree depth, but it can prune branches during training.\n",
        "\n",
        "5. **Weighted Quantile Sketch**:\n",
        "   - **Traditional Gradient Boosting**: Can struggle with categorical features and non-uniform distributions of features.\n",
        "   - **XGBoost**: Implements a **weighted quantile sketch** algorithm to approximate the optimal split for each feature. This is especially useful for handling categorical features and skewed distributions efficiently.\n",
        "\n",
        "6. **Speed and Scalability**:\n",
        "   - **Traditional Gradient Boosting**: Tends to be slower, especially on large datasets, due to its sequential nature.\n",
        "   - **XGBoost**: Optimized for **speed and scalability**. It includes features like **block structure** for handling large datasets and supports both single and multi-threaded processing, significantly improving runtime.\n",
        "\n",
        "7. **Learning Rate Scheduling**:\n",
        "   - **Traditional Gradient Boosting**: Has a fixed learning rate and doesn't dynamically adjust it.\n",
        "   - **XGBoost**: Implements a **learning rate schedule** (using the `eta` parameter), which allows it to adjust the learning rate during training to improve convergence and performance.\n",
        "\n",
        "8. **Early Stopping**:\n",
        "   - **Traditional Gradient Boosting**: Requires manual validation to check for overfitting.\n",
        "   - **XGBoost**: Provides an **early stopping** mechanism based on performance on a validation set, which helps in reducing the risk of overfitting and also saves computation time.\n",
        "\n",
        "By combining these enhancements, XGBoost is generally faster, more accurate, and more robust than traditional gradient boosting algorithms. These advantages have made it a popular choice in many machine learning competitions and real-world applications."
      ],
      "metadata": {
        "id": "5RTV_zp6CR72"
      }
    },
    {
      "cell_type": "markdown",
      "source": [
        "###QUES.8 What is the difference between XGBoost and CatBoost?\n"
      ],
      "metadata": {
        "id": "-x6KRLsmCfNZ"
      }
    },
    {
      "cell_type": "markdown",
      "source": [
        "###ANS.8 XGBoost and CatBoost are both powerful gradient boosting frameworks, but they have key differences that make them suitable for different types of tasks. Here's a comparison between the two:\n",
        "\n",
        "### 1. **Handling Categorical Features:**\n",
        "   - **XGBoost**: Does not natively handle categorical features. It requires categorical data to be pre-processed into numeric format (e.g., one-hot encoding, label encoding) before being fed into the model.\n",
        "   - **CatBoost**: **Specifically designed** to handle categorical features without requiring explicit preprocessing (like one-hot encoding or label encoding). It automatically handles categorical variables by using a technique called **ordered target statistics** that helps avoid data leakage and improves performance.\n",
        "\n",
        "### 2. **Training Algorithm and Speed:**\n",
        "   - **XGBoost**: Uses a **level-wise** tree growth algorithm, where it builds trees level by level, leading to more balanced trees.\n",
        "   - **CatBoost**: Uses a **symmetric tree** approach, which ensures that trees are balanced and grow more symmetrically, potentially improving the model's efficiency. CatBoost also employs **ordered boosting**, a technique that helps reduce overfitting, especially when working with small datasets.\n",
        "   - **Speed**: XGBoost tends to be faster on datasets that don't have many categorical features or require less pre-processing. CatBoost, on the other hand, can sometimes be slower but may outperform XGBoost on datasets with many categorical features due to its specialized handling.\n",
        "\n",
        "### 3. **Regularization:**\n",
        "   - **XGBoost**: Provides regularization (L1 and L2) to control overfitting, which is a major strength of XGBoost. This regularization works on both the tree structure and the leaf weights.\n",
        "   - **CatBoost**: Also provides regularization, but it focuses more on the interaction between categorical features and the target. Additionally, CatBoost includes its own type of regularization to reduce overfitting, particularly with the **ordered boosting** technique.\n",
        "\n",
        "### 4. **Overfitting Prevention:**\n",
        "   - **XGBoost**: Relies on early stopping and regularization to prevent overfitting. It also has hyperparameters like `subsample` and `colsample_bytree` that help control the complexity of the model.\n",
        "   - **CatBoost**: Prevents overfitting with **ordered boosting**, a method that builds trees by taking into account the ordered statistics of the data, which helps reduce overfitting when working with categorical features. This makes it especially robust when dealing with small datasets or datasets with many categorical features.\n",
        "\n",
        "### 5. **Ease of Use:**\n",
        "   - **XGBoost**: Requires more tuning and preprocessing (especially for categorical data), making it slightly more complex to use effectively out of the box. However, it's very flexible, allowing users to experiment with a wide range of hyperparameters.\n",
        "   - **CatBoost**: Designed to be more **user-friendly** with fewer hyperparameters to tune. It automatically handles categorical data, so users don’t need to manually preprocess the data. It also tends to require fewer tweaks and adjustments to get strong performance.\n",
        "\n",
        "### 6. **Performance on Categorical Data:**\n",
        "   - **XGBoost**: Requires converting categorical variables to numeric types, which can lead to suboptimal performance, especially when dealing with high-cardinality categorical features.\n",
        "   - **CatBoost**: **Optimized** for categorical data and can handle high-cardinality categorical features more effectively. This can lead to better performance with datasets that have many categorical variables.\n",
        "\n",
        "### 7. **Model Interpretability:**\n",
        "   - **XGBoost**: Provides **good model interpretability** through techniques like SHAP values, which can help explain the contribution of each feature to the model’s prediction.\n",
        "   - **CatBoost**: Also offers **model interpretation** via SHAP values and other tools, but it is relatively newer, and some tools for interpretability might be less mature compared to XGBoost.\n",
        "\n",
        "### 8. **Community and Ecosystem:**\n",
        "   - **XGBoost**: Has been around for longer (since 2014) and has a large, active community, with extensive resources and tutorials available. It is widely used in Kaggle competitions and industry applications.\n",
        "   - **CatBoost**: Developed by Yandex, CatBoost is newer (released in 2017) but has gained significant attention due to its superior handling of categorical features and ease of use. It has a growing community and ecosystem, especially among users working with categorical-heavy data.\n",
        "\n",
        "### Summary of Key Differences:\n",
        "| Feature                        | XGBoost                         | CatBoost                         |\n",
        "|---------------------------------|---------------------------------|----------------------------------|\n",
        "| **Categorical Feature Handling** | Requires preprocessing (e.g., one-hot encoding) | Handles categorical features natively |\n",
        "| **Tree Construction**           | Level-wise tree growth          | Symmetric tree growth, ordered boosting |\n",
        "| **Regularization**              | L1 and L2 regularization        | Regularization with ordered boosting |\n",
        "| **Ease of Use**                 | More complex, requires tuning   | More user-friendly, fewer parameters to tune |\n",
        "| **Performance on Categorical Data** | Can struggle with high-cardinality categorical data | Excels with high-cardinality categorical data |\n",
        "| **Training Speed**              | Faster on non-categorical data  | Slower in some cases, especially with many categories |\n",
        "| **Model Interpretability**      | Strong interpretability (SHAP)  | Strong interpretability (SHAP)   |\n",
        "\n",
        "### When to Use Each:\n",
        "- **XGBoost**: If your dataset has fewer categorical features, or if you are already familiar with preprocessing and tuning gradient boosting models. It's a great choice when you need fine-tuned control over the model's behavior.\n",
        "- **CatBoost**: If your dataset contains many categorical features, especially with high-cardinality categorical data, or if you're looking for a more user-friendly model with minimal preprocessing and tuning. It's also great for smaller datasets or when you want to quickly test a model without extensive feature engineering.\n",
        "\n",
        "Both algorithms are highly powerful, but CatBoost’s automatic handling of categorical data gives it an edge in many practical scenarios where categorical features are prominent."
      ],
      "metadata": {
        "id": "mcdQivGAC9Ha"
      }
    },
    {
      "cell_type": "markdown",
      "source": [
        "###QUES.9 What are some real-world applications of Boosting techniques?"
      ],
      "metadata": {
        "id": "D4rMgptsDUok"
      }
    },
    {
      "cell_type": "markdown",
      "source": [
        "###ANS.9 Boosting techniques like XGBoost, LightGBM, and CatBoost have become some of the most widely used methods in machine learning due to their high performance, particularly in predictive tasks. They are applied in various real-world scenarios across different industries. Here are some notable applications of boosting techniques:\n",
        "\n",
        "### 1. **Finance and Credit Scoring**\n",
        "   - **Credit Risk Assessment**: Boosting models are frequently used to predict the likelihood of a borrower defaulting on a loan. By using historical data, these models can assess credit scores and the potential risk of lending to a customer. For example, banks use boosting algorithms to decide on loan approvals or identify high-risk customers.\n",
        "   - **Fraud Detection**: Boosting algorithms help identify suspicious patterns in transactions and detect fraudulent activities by learning from past fraud patterns. For instance, they can spot unusual behavior in credit card transactions or online banking activities.\n",
        "   \n",
        "### 2. **Healthcare**\n",
        "   - **Disease Prediction**: Boosting algorithms are used for predicting the likelihood of diseases such as diabetes, cancer, and heart disease based on patient data, including medical records, demographics, and test results. They can help doctors prioritize patients who need immediate attention.\n",
        "   - **Medical Image Analysis**: In applications like tumor detection or diagnosing diseases from medical imaging (e.g., X-rays, MRIs, or CT scans), boosting models are used to detect abnormalities and assist radiologists in making more accurate diagnoses.\n",
        "   - **Personalized Treatment**: Boosting methods are also applied in predicting the efficacy of treatments for individual patients based on their historical medical data, helping personalize healthcare plans.\n",
        "\n",
        "### 3. **E-commerce and Retail**\n",
        "   - **Customer Segmentation**: Boosting techniques are used to categorize customers based on their buying patterns, preferences, and behaviors. This segmentation helps businesses tailor their marketing strategies, product recommendations, and promotional offers.\n",
        "   - **Recommendation Systems**: Boosting algorithms power recommendation engines, where they analyze user interactions and behaviors to recommend products, movies, or content to customers (like the recommendation engines used by Amazon, Netflix, etc.).\n",
        "   - **Price Optimization**: Retailers use boosting to forecast demand for products and optimize pricing strategies. By considering factors like seasonality, promotions, and competitors' prices, businesses can set dynamic pricing to maximize profits.\n",
        "\n",
        "### 4. **Marketing and Advertising**\n",
        "   - **Click-through Rate (CTR) Prediction**: In online advertising, boosting techniques are used to predict the likelihood of users clicking on a specific ad, based on historical click data, user behavior, and contextual factors. This helps in improving the efficiency of ad campaigns.\n",
        "   - **Customer Churn Prediction**: By analyzing customer interaction history, boosting models can predict which customers are likely to leave a service (churn), enabling businesses to proactively engage with at-risk customers through targeted offers or interventions.\n",
        "   - **Sentiment Analysis**: Boosting is also used for sentiment analysis to predict customer sentiments from social media, reviews, or surveys. It helps businesses understand how customers feel about products or services, driving better decision-making.\n",
        "\n",
        "### 5. **Marketing Analytics**\n",
        "   - **Sales Forecasting**: In business analytics, boosting techniques are used to predict future sales based on historical data, market conditions, seasonality, and promotions. This helps businesses in inventory management and financial planning.\n",
        "   - **Targeted Campaigns**: Boosting is used to segment customers based on purchasing behavior and demographic characteristics, allowing companies to run more effective and targeted marketing campaigns.\n",
        "   \n",
        "### 6. **Insurance**\n",
        "   - **Claim Prediction and Fraud Detection**: Insurance companies use boosting to assess the likelihood of claims being made (e.g., accident claims) and to identify potentially fraudulent claims based on historical claim data and customer behavior.\n",
        "   - **Risk Assessment**: Boosting models are used to assess the risk level of policyholders and to decide on insurance premiums. Factors like the insured person’s driving history, health status, and location can all influence risk prediction.\n",
        "\n",
        "### 7. **Manufacturing**\n",
        "   - **Predictive Maintenance**: Boosting techniques help predict when machinery or equipment might fail by analyzing sensor data. This allows companies to perform maintenance before failures occur, reducing downtime and saving on repair costs.\n",
        "   - **Quality Control**: In manufacturing, boosting models can be used to identify defects in production by analyzing data from quality inspection systems, sensor data, and past product failures.\n",
        "\n",
        "### 8. **Natural Language Processing (NLP)**\n",
        "   - **Spam Detection**: Boosting models are used for email and message classification, such as distinguishing spam from legitimate messages. They analyze features like content, frequency of certain words, and sender information.\n",
        "   - **Text Classification and Sentiment Analysis**: Boosting is commonly used for categorizing text documents or determining the sentiment of a given text (positive, negative, neutral). Applications include customer reviews, social media posts, and news articles.\n",
        "   - **Named Entity Recognition (NER)**: Boosting techniques are applied in extracting structured information from unstructured text, such as identifying company names, locations, dates, and other important entities in text.\n",
        "\n",
        "### 9. **Autonomous Vehicles**\n",
        "   - **Object Detection and Recognition**: Boosting algorithms play a role in recognizing obstacles, pedestrians, and traffic signs in autonomous driving systems. They help make decisions in real-time, enabling safe navigation through complex environments.\n",
        "   - **Driver Behavior Analysis**: Boosting can be used to predict and analyze driver behavior, which is useful for developing better vehicle systems and enhancing safety features.\n",
        "\n",
        "### 10. **Energy Sector**\n",
        "   - **Energy Consumption Forecasting**: Boosting techniques are used to predict energy consumption in various sectors (residential, commercial, industrial). This can help utility companies optimize energy distribution and make smarter decisions on energy pricing and infrastructure investments.\n",
        "   - **Fault Detection in Power Grids**: By analyzing sensor data and real-time metrics, boosting models can detect faults or outages in power grids, enabling quicker responses and reducing downtime.\n",
        "\n",
        "### 11. **Sports Analytics**\n",
        "   - **Player Performance Prediction**: Boosting algorithms are used in predicting player performance based on historical data, such as injury history, training metrics, and past game performances. This can help coaches make data-driven decisions about player selections and strategies.\n",
        "   - **Game Outcome Prediction**: Sports betting companies use boosting techniques to predict game outcomes by analyzing a variety of factors, including team performance, player statistics, weather conditions, and historical data.\n",
        "\n",
        "### 12. **Environmental Monitoring**\n",
        "   - **Air Quality Prediction**: Boosting models can be applied to predict air pollution levels based on environmental data, helping city planners and governments take preventive measures to protect public health.\n",
        "   - **Wildfire Prediction**: Machine learning, including boosting techniques, can help predict the likelihood of wildfires by analyzing weather conditions, vegetation data, and past occurrences.\n",
        "\n",
        "### Summary:\n",
        "Boosting techniques are widely used in various industries to solve complex problems involving prediction, classification, and optimization. Their strength lies in their ability to improve model performance by combining weak learners into strong ones, making them ideal for real-world applications where accuracy and robustness are critical."
      ],
      "metadata": {
        "id": "RtBmQTavDvAa"
      }
    },
    {
      "cell_type": "markdown",
      "source": [
        "###QUES.10 How does regularization help in XGBoost?"
      ],
      "metadata": {
        "id": "ppEevGDhD0Ka"
      }
    },
    {
      "cell_type": "markdown",
      "source": [
        "###ANS.10 In XGBoost, **regularization** plays a critical role in preventing overfitting and improving the generalization of the model. By adding a penalty term to the objective function, regularization helps control the complexity of the model, ensuring that it doesn't fit the noise or peculiarities in the training data. Here’s how regularization works in XGBoost and why it's so important:\n",
        "\n",
        "### 1. **Types of Regularization in XGBoost**\n",
        "XGBoost includes two types of regularization: **L1 regularization (Lasso)** and **L2 regularization (Ridge)**. These regularization techniques are applied to both the leaf weights (the output of the trees) and the structure of the trees themselves.\n",
        "\n",
        "- **L1 Regularization (Lasso)**: L1 regularization adds a penalty equal to the absolute value of the model parameters (leaf weights in the case of XGBoost). This has the effect of driving some of the weights to zero, which encourages sparsity in the model (i.e., it tends to select only the most important features and can lead to feature selection).\n",
        "  \n",
        "- **L2 Regularization (Ridge)**: L2 regularization adds a penalty equal to the square of the model parameters (leaf weights). This discourages large weights and helps smooth the model, reducing variance and making it more robust to overfitting.\n",
        "\n",
        "Both types of regularization are controlled by hyperparameters in XGBoost:\n",
        "- **`lambda` (L2 regularization)**: Controls the L2 penalty.\n",
        "- **`alpha` (L1 regularization)**: Controls the L1 penalty.\n",
        "\n",
        "### 2. **How Regularization Helps in XGBoost:**\n",
        "\n",
        "- **Prevents Overfitting**:\n",
        "  Regularization limits the model’s ability to create overly complex decision trees that fit the noise in the training data. By adding a penalty term, regularization helps control the growth of trees and restricts the model from becoming too complex, which is especially useful when working with noisy or small datasets.\n",
        "\n",
        "- **Controls Tree Complexity**:\n",
        "  In XGBoost, regularization helps manage the depth and number of splits in the trees. Without regularization, the model may grow too many trees or excessively deep trees, capturing more variance than necessary. This makes the model too specific to the training data, leading to overfitting. Regularization encourages the algorithm to stop growing trees once the improvement is marginal.\n",
        "\n",
        "- **Improves Generalization**:\n",
        "  Regularization encourages the model to find a balance between fitting the data well and keeping the model simple, which leads to better generalization to unseen data. By penalizing large leaf weights and overly complex tree structures, the model becomes more robust to fluctuations in new data.\n",
        "\n",
        "- **Feature Selection (with L1 Regularization)**:\n",
        "  The L1 regularization (through the `alpha` parameter) can drive some feature weights to zero, effectively removing irrelevant features from the model. This can result in automatic **feature selection**, where the model chooses only the most impactful features, making the model more interpretable and faster to train.\n",
        "\n",
        "### 3. **Effect on Objective Function**\n",
        "The objective function in XGBoost consists of two components:\n",
        "- **Loss Function (L)**: Measures how well the model fits the training data (e.g., Mean Squared Error, Log Loss).\n",
        "- **Regularization Term (Ω)**: Adds a penalty to the complexity of the model.\n",
        "\n",
        "The objective function in XGBoost is:\n",
        "\n",
        "\\[\n",
        "\\text{Objective} = L(\\hat{y}, y) + \\Omega(f)\n",
        "\\]\n",
        "\n",
        "Where:\n",
        "- \\( L(\\hat{y}, y) \\) is the loss function that measures the error of the predictions,\n",
        "- \\( \\Omega(f) \\) is the regularization term, which includes the L1 and L2 penalties for the model’s weights and structure.\n",
        "\n",
        "The regularization term helps control the growth of the trees, preventing them from becoming too large or too deep, which reduces overfitting and helps ensure the model performs well on unseen data.\n",
        "\n",
        "### 4. **Practical Impact of Regularization in XGBoost**\n",
        "- **Prevents Overfitting in Noisy Data**: On noisy datasets, regularization keeps the model from memorizing irrelevant patterns, thus improving its ability to generalize.\n",
        "- **Helps with Smaller Datasets**: For smaller datasets, where the risk of overfitting is high, regularization becomes particularly important by preventing the model from becoming overly complex.\n",
        "- **Speeds Up Training**: Regularization can also help speed up the training process by pruning unnecessary tree branches or restricting the growth of the trees. This makes the model more efficient, especially with larger datasets.\n",
        "\n",
        "### 5. **Tuning Regularization Hyperparameters**\n",
        "The two main regularization hyperparameters in XGBoost are:\n",
        "- **`alpha` (L1 regularization)**: Controls the L1 regularization strength. Higher values of `alpha` lead to more sparsity in the model (more features pushed toward zero).\n",
        "- **`lambda` (L2 regularization)**: Controls the L2 regularization strength. Larger values of `lambda` penalize larger weights more heavily.\n",
        "\n",
        "You can tune these hyperparameters (along with others like `max_depth`, `learning_rate`, etc.) using cross-validation or a hyperparameter optimization approach to find the best trade-off between underfitting and overfitting for your specific dataset.\n",
        "\n",
        "### Summary\n",
        "Regularization in XGBoost is crucial for ensuring that the model does not overfit to the training data and generalizes well to unseen data. By penalizing overly complex models, regularization helps balance model complexity and performance, improves the robustness of the model, and allows for automatic feature selection (in the case of L1 regularization). It is a key technique to improve the reliability and accuracy of boosting models."
      ],
      "metadata": {
        "id": "s0J-3IQGEAS_"
      }
    },
    {
      "cell_type": "markdown",
      "source": [
        "###QUES.11 What are some hyperparameters to tune in Gradient Boosting models?"
      ],
      "metadata": {
        "id": "Rh8dHyfyEPPI"
      }
    },
    {
      "cell_type": "markdown",
      "source": [
        "###ANS.11 Tuning hyperparameters in Gradient Boosting models is crucial to achieve the best performance and generalization. The exact hyperparameters to tune can vary depending on the specific gradient boosting implementation (e.g., **XGBoost**, **LightGBM**, **CatBoost**), but many of the key hyperparameters are common across all of them. Here are some of the most important hyperparameters to tune in gradient boosting models:\n",
        "\n",
        "### 1. **Learning Rate (`learning_rate`)**\n",
        "   - **Description**: The learning rate controls how much each tree contributes to the final model. A lower learning rate typically leads to a more robust model, but requires more trees (iterations) to converge.\n",
        "   - **Impact**: A lower learning rate may improve model performance but requires a larger number of trees to achieve a similar level of accuracy, which can increase training time.\n",
        "   - **Typical Range**: 0.001 to 0.3\n",
        "   - **Tuning Tip**: Often, a smaller learning rate with more boosting rounds (trees) works better.\n",
        "\n",
        "### 2. **Number of Trees (`n_estimators`)**\n",
        "   - **Description**: This defines the number of boosting iterations (or trees) to be built. More trees generally lead to a more accurate model, but after a certain point, the model may start to overfit.\n",
        "   - **Impact**: Too few trees may underfit the data, while too many trees may overfit.\n",
        "   - **Typical Range**: 50 to 500\n",
        "   - **Tuning Tip**: Use early stopping to prevent overfitting when tuning the number of trees.\n",
        "\n",
        "### 3. **Maximum Depth of Trees (`max_depth`)**\n",
        "   - **Description**: The maximum depth of each tree determines how deep the individual trees can grow. Deeper trees can capture more complex patterns but are more prone to overfitting.\n",
        "   - **Impact**: Shallow trees tend to underfit, while deep trees may overfit.\n",
        "   - **Typical Range**: 3 to 10\n",
        "   - **Tuning Tip**: A good starting point is often a depth between 3 and 6.\n",
        "\n",
        "### 4. **Minimum Samples per Leaf (`min_samples_leaf`)**\n",
        "   - **Description**: This hyperparameter controls the minimum number of samples required to be at a leaf node. Setting it higher can help prevent the model from fitting noise or overfitting small details.\n",
        "   - **Impact**: Larger values make the model more conservative and prevent overfitting, while smaller values allow the model to capture more detailed patterns.\n",
        "   - **Typical Range**: 1 to 10\n",
        "   - **Tuning Tip**: Increasing `min_samples_leaf` reduces the complexity of the trees.\n",
        "\n",
        "### 5. **Subsample (`subsample`)**\n",
        "   - **Description**: This parameter specifies the fraction of the training set to be randomly sampled to fit each tree. It is used for **stochastic gradient boosting**, where each tree is built using only a subset of the data.\n",
        "   - **Impact**: A value less than 1.0 can help prevent overfitting, as it introduces randomness into the model, leading to a more robust model.\n",
        "   - **Typical Range**: 0.5 to 1.0\n",
        "   - **Tuning Tip**: Values like 0.7 or 0.8 often work well.\n",
        "\n",
        "### 6. **Colsample_bytree, Colsample_bylevel, Colsample_bynode (`colsample_bytree`, `colsample_bylevel`, `colsample_bynode`)**\n",
        "   - **Description**: These parameters control the fraction of features (columns) used when building each tree (or level/node). They are used to introduce more randomness and help avoid overfitting.\n",
        "   - **Impact**: Reducing the number of features used for each tree can help prevent overfitting, particularly when the dataset has many features.\n",
        "   - **Typical Range**: 0.5 to 1.0\n",
        "   - **Tuning Tip**: Start with `colsample_bytree = 0.8` or `0.9`.\n",
        "\n",
        "### 7. **Minimum Samples per Split (`min_samples_split`)**\n",
        "   - **Description**: This controls the minimum number of samples required to split an internal node. Increasing this value can prevent the model from learning overly specific patterns (overfitting).\n",
        "   - **Impact**: Larger values make the model more conservative, reducing the number of splits and increasing bias.\n",
        "   - **Typical Range**: 2 to 10\n",
        "   - **Tuning Tip**: A higher value can improve generalization by making the trees more shallow.\n",
        "\n",
        "### 8. **Gamma (Regularization Term) (`gamma`)**\n",
        "   - **Description**: Gamma specifies the minimum loss reduction required to make a further partition on a leaf node. It controls whether a given node will split based on its potential to reduce the loss.\n",
        "   - **Impact**: A higher value makes the algorithm more conservative and less likely to split a node unless it results in a significant reduction in the loss.\n",
        "   - **Typical Range**: 0 to 1\n",
        "   - **Tuning Tip**: A higher value leads to simpler models, which can prevent overfitting.\n",
        "\n",
        "### 9. **Max Delta Step (`max_delta_step`)**\n",
        "   - **Description**: This is used to help with convergence, particularly in the presence of highly imbalanced classes or in the case of models that are having trouble converging.\n",
        "   - **Impact**: It can be useful to stabilize training when the optimization is too unstable or when dealing with highly imbalanced datasets.\n",
        "   - **Typical Range**: 0 to 10\n",
        "   - **Tuning Tip**: Set to a higher value (e.g., 1 or 5) if convergence issues arise.\n",
        "\n",
        "### 10. **Tree Method (`tree_method`)**\n",
        "   - **Description**: This specifies the algorithm used for building trees. Different algorithms are available, such as:\n",
        "     - `auto` (default) selects the best method based on the data.\n",
        "     - `exact` builds trees using an exact greedy algorithm.\n",
        "     - `approx` uses approximate algorithms for faster training.\n",
        "     - `hist` and `gpu_hist` use histogram-based approaches for faster computation, especially for large datasets.\n",
        "   - **Impact**: Choosing the appropriate method can greatly impact both training speed and model accuracy.\n",
        "   - **Tuning Tip**: For large datasets, `hist` or `gpu_hist` may be the fastest options.\n",
        "\n",
        "### 11. **Regularization Parameters:**\n",
        "   - **L1 Regularization (`alpha`)**: This parameter adds L1 regularization to the tree leaf weights. It helps enforce sparsity and can act as a feature selection tool.\n",
        "   - **L2 Regularization (`lambda`)**: This adds L2 regularization to the tree leaf weights, helping to shrink large leaf values and prevent overfitting.\n",
        "\n",
        "### 12. **Objective Function (`objective`)**\n",
        "   - **Description**: This defines the loss function used to optimize the model. Common objective functions include:\n",
        "     - `reg:squarederror` for regression tasks (mean squared error).\n",
        "     - `binary:logistic` for binary classification (logistic regression).\n",
        "     - `multi:softmax` for multi-class classification (multi-class softmax).\n",
        "   - **Tuning Tip**: Make sure to choose the appropriate objective for the task.\n",
        "\n",
        "### 13. **Boosting Type (`booster`)**\n",
        "   - **Description**: Specifies which boosting method to use:\n",
        "     - `gbtree` (default) builds trees.\n",
        "     - `gblinear` uses linear models.\n",
        "     - `dart` adds a dropout mechanism to the trees, which helps with regularization.\n",
        "   - **Tuning Tip**: For most tasks, `gbtree` or `dart` are recommended, but `gblinear` might be useful in cases with a large number of features.\n",
        "\n",
        "### 14. **Early Stopping**\n",
        "   - **Description**: This is not technically a hyperparameter, but it’s a useful tool during training. Early stopping stops the training process if the validation score does not improve for a certain number of iterations (trees).\n",
        "   - **Impact**: Prevents overfitting by stopping the model from training too long.\n",
        "   - **Tuning Tip**: Use a validation set to monitor performance and set the number of rounds without improvement before stopping (e.g., 10-50 rounds).\n",
        "\n",
        "### Summary of Key Hyperparameters:\n",
        "| Hyperparameter              | Description                                 | Typical Range               |\n",
        "|-----------------------------|---------------------------------------------|-----------------------------|\n",
        "| `learning_rate`             | Controls the step size in gradient updates  | 0.001 to 0.3                |\n",
        "| `n_estimators`              | Number of boosting iterations (trees)      | 50 to 500                   |\n",
        "| `max_depth`                 | Maximum depth of trees                     | 3 to 10                     |\n",
        "| `min_samples_leaf`          | Minimum samples required at leaf node      | 1 to 10                     |\n",
        "| `subsample`                 | Fraction of data used for each tree        | 0.5 to 1.0                  |\n",
        "| `colsample_bytree`          | Fraction of features used per tree         | 0.5 to 1.0                  |\n",
        "| `min_samples_split`         | Minimum samples required to split a node   | 2 to 10                     |\n",
        "| `gamma`                     | Minimum loss reduction for a split         | 0 to 1                      |\n",
        "| `max_delta_step`            | Stabilizes the model in case of imbalance  | 0 to 10                     |\n",
        "| `objective`                 | Defines the loss function                  | `reg:squarederror`, `binary:logistic`, etc. |\n",
        "| `booster`                   | Boosting method (tree-based or linear)     | `gbtree`, `gblinear`, `dart` |\n",
        "\n",
        "### Tuning Strategy:\n",
        "- **Grid Search** and **Random Search** are common methods to explore hyperparameters.\n",
        "- **Bayesian Optimization** and other advanced methods like **Hyperopt** can help efficiently find the best hyperparameters.\n",
        "- Always use **cross-validation** to evaluate performance and avoid overfitting during hyperparameter tuning.\n",
        "\n",
        "Tuning the right hyperparameters can significantly improve the performance of a Gradient Boosting model, and the optimal settings depend on the specific dataset and problem you are solving."
      ],
      "metadata": {
        "id": "Kbf5U6DDEY-k"
      }
    },
    {
      "cell_type": "markdown",
      "source": [
        "###QUES.12 What is the concept of Feature Importance in Boosting?"
      ],
      "metadata": {
        "id": "cpuYnmI1EuxI"
      }
    },
    {
      "cell_type": "markdown",
      "source": [
        "###ANS.12 **Feature importance** in boosting refers to the technique used to determine how much each feature (or variable) contributes to the predictions made by a boosting model, such as **XGBoost**, **LightGBM**, or **CatBoost**. This helps in understanding the influence of different features on the model's output and can guide decisions about feature selection, model interpretation, and even domain-specific insights.\n",
        "\n",
        "In boosting models, the feature importance is derived by analyzing how each feature helps the model to minimize errors or improve accuracy during the boosting process.\n",
        "\n",
        "### Key Concepts of Feature Importance in Boosting:\n",
        "\n",
        "1. **Model Structure**:\n",
        "   Boosting models, like **Gradient Boosting**, **XGBoost**, and **LightGBM**, build an ensemble of decision trees iteratively. Each tree in the ensemble is trained to correct the errors made by the previous tree. The importance of a feature can be evaluated based on how frequently it is used in the splits of the trees and how much it contributes to reducing the overall error of the model.\n",
        "\n",
        "2. **How Feature Importance is Calculated in Boosting Models**:\n",
        "   There are several ways to compute feature importance in boosting algorithms, depending on the specific implementation. However, the general idea is to evaluate the contribution of a feature in terms of its ability to reduce loss (or improve the model's prediction accuracy).\n",
        "\n",
        "### Common Methods to Calculate Feature Importance:\n",
        "\n",
        "#### 1. **Gain (or Contribution to Model Improvement)**\n",
        "   - **Description**: Gain measures the contribution of a feature in reducing the loss or improving the model's performance. It is calculated by the improvement in the loss function when a feature is used to split a node in a decision tree. The more a feature reduces the error or variance in the model, the higher its gain.\n",
        "   - **How It Works**: For each feature, the gain is calculated by summing up the improvement in prediction error at each node where the feature is used for a split across all trees. Features that lead to more significant reductions in error (i.e., provide greater predictive power) will have higher gain values.\n",
        "   - **Importance**: A higher gain means the feature contributes significantly to improving the model's prediction accuracy.\n",
        "\n",
        "#### 2. **Frequency (or Weight)**\n",
        "   - **Description**: Frequency measures how often a feature is used for splitting nodes in the trees across all boosting iterations. It counts the number of times a particular feature is chosen as a split point in the decision trees.\n",
        "   - **How It Works**: The frequency is determined by counting the number of times each feature appears at a split in the trees. Features that appear more frequently at split points are considered more important.\n",
        "   - **Importance**: A higher frequency means the feature is more commonly used across different trees, which typically indicates it is more important for the model's decision-making process.\n",
        "\n",
        "#### 3. **Cover (or Node Coverage)**\n",
        "   - **Description**: Cover measures the relative quantity of samples affected by a feature at a particular split. It is calculated as the sum of the number of samples (or observations) that pass through a node where a particular feature is used as the split criterion.\n",
        "   - **How It Works**: This method quantifies how many instances of the data are involved in each split based on the feature. Features that impact a larger portion of the data (i.e., have a high \"cover\") are deemed more important.\n",
        "   - **Importance**: A higher cover means the feature affects a large number of observations, implying it has a greater influence on the model.\n",
        "\n",
        "#### 4. **SHAP (SHapley Additive exPlanations) Values** (Advanced)\n",
        "   - **Description**: SHAP values provide a more advanced and interpretable way to compute feature importance by explaining how much each feature contributes to each individual prediction. The SHAP framework uses **Shapley values** (from cooperative game theory) to allocate contributions fairly among features.\n",
        "   - **How It Works**: SHAP values compute the average contribution of each feature across all possible combinations of features. It provides not only global feature importance (how much each feature influences the model on average) but also local interpretability (how each feature affects a specific prediction).\n",
        "   - **Importance**: SHAP values offer a robust and interpretable approach to understanding both global and local feature importance.\n",
        "\n",
        "### Benefits of Understanding Feature Importance in Boosting:\n",
        "1. **Model Interpretation**: Feature importance allows you to interpret what the model is learning and which features are most influential in making predictions. This can help in explaining model decisions to stakeholders and ensuring model transparency.\n",
        "   \n",
        "2. **Feature Selection**: By identifying the most important features, you can potentially reduce the number of features used in the model. This can lead to a simpler, faster, and more interpretable model without sacrificing performance.\n",
        "   \n",
        "3. **Improved Model Performance**: If you identify that certain features are not contributing meaningfully, you can choose to drop them, potentially reducing overfitting and improving model generalization. Additionally, you can focus on engineering or adding more meaningful features based on this understanding.\n",
        "   \n",
        "4. **Insights into the Data**: Feature importance can also reveal valuable insights into the dataset and the relationships between features and the target variable. This can provide a deeper understanding of the data and help in further analysis or feature engineering.\n",
        "\n",
        "### Practical Steps to Extract Feature Importance in Boosting Models:\n",
        "In popular boosting frameworks like **XGBoost**, **LightGBM**, and **CatBoost**, you can directly access the feature importance scores after training the model.\n",
        "\n",
        "#### In **XGBoost**:\n",
        "- **Gain**: `model.get_score(importance_type='gain')`\n",
        "- **Frequency**: `model.get_score(importance_type='weight')`\n",
        "- **Plotting**: `xgboost.plot_importance(model)`\n",
        "\n",
        "#### In **LightGBM**:\n",
        "- **Gain**: `model.feature_importance(importance_type='gain')`\n",
        "- **Frequency**: `model.feature_importance(importance_type='split')`\n",
        "- **Plotting**: `lightgbm.plot_importance(model)`\n",
        "\n",
        "#### In **CatBoost**:\n",
        "- **Feature Importance**: `model.get_feature_importance()`\n",
        "- **Plotting**: `catboost.plot_importance(model)`\n",
        "\n",
        "### Summary of Feature Importance Methods:\n",
        "\n",
        "| Method          | Description                                   | What It Measures                                  |\n",
        "|-----------------|-----------------------------------------------|--------------------------------------------------|\n",
        "| **Gain**        | Contribution of a feature to model improvement | How much the feature reduces prediction error    |\n",
        "| **Frequency**   | How often a feature is used in the splits     | Number of times a feature is used for splits    |\n",
        "| **Cover**       | Coverage of a feature across trees            | The number of samples affected by a feature      |\n",
        "| **SHAP Values** | Fair contribution of features to predictions   | Local and global contributions to individual predictions |\n",
        "\n",
        "### Conclusion:\n",
        "Feature importance in boosting models helps in interpreting the model's behavior and determining which features are driving the predictions. It is an essential tool for both understanding the inner workings of the model and improving model performance through feature selection. By using metrics like **gain**, **frequency**, and **cover**, or more advanced techniques like **SHAP values**, you can gain valuable insights into your model’s decision-making process."
      ],
      "metadata": {
        "id": "AciBglaiE4kr"
      }
    },
    {
      "cell_type": "markdown",
      "source": [
        "###QUES.13 Why is CatBoost efficient for categorical data?\n"
      ],
      "metadata": {
        "id": "aiGpTgN9FPuh"
      }
    },
    {
      "cell_type": "markdown",
      "source": [
        "###ANS.13 **CatBoost** is particularly efficient for **categorical data** due to several unique techniques it employs that handle categorical features more effectively than other gradient boosting algorithms. Below are the key reasons why CatBoost is highly efficient when working with categorical data:\n",
        "\n",
        "### 1. **Handling Categorical Features Directly**\n",
        "   - **Traditional methods**, such as XGBoost or LightGBM, require categorical features to be **encoded** into numerical formats like **one-hot encoding** or **label encoding** before being used in the model. One-hot encoding can significantly increase the dimensionality, while label encoding imposes an ordinal relationship on categorical variables, which is not always valid.\n",
        "   - **CatBoost**, however, directly processes categorical features without requiring these pre-processing steps. It uses an **efficient algorithm** to convert categorical features into numerical representations while preserving the relationships between the categories. This reduces the need for additional encoding steps and eliminates the risk of creating misleading feature relationships.\n",
        "\n",
        "### 2. **Ordered Target Statistics**\n",
        "   - A key innovation in CatBoost is the use of **ordered target statistics**. Instead of simply applying one-hot encoding or label encoding, CatBoost computes the **mean target value** for each category in a **context-sensitive** way. This approach is known as **target encoding** or **mean encoding**, but with a twist:\n",
        "     - CatBoost computes the **mean target value for each category** in a way that avoids **target leakage** (using information from future data points that would not be available during training).\n",
        "     - It uses an **ordered boosting scheme**, where each category's encoding is calculated using only the **previous data points** (i.e., the data seen before it in the training process), ensuring that the model does not learn from data it would not have access to during prediction.\n",
        "   - This technique helps preserve the information in categorical features while preventing overfitting, making it particularly useful in datasets with categorical variables that have a large number of unique values.\n",
        "\n",
        "### 3. **Efficient Handling of High-Cardinality Categorical Variables**\n",
        "   - **High-cardinality categorical features** (features with a large number of unique categories) often pose a challenge in machine learning models. In traditional methods, such features would lead to high-dimensional one-hot encodings, making the model complex and prone to overfitting.\n",
        "   - **CatBoost** efficiently handles these high-cardinality categorical features by using the **ordered target statistics** method. This allows the model to learn meaningful representations of categories without the need for high-dimensional encoding, and it avoids overfitting to rare categories.\n",
        "\n",
        "### 4. **No Need for Extensive Preprocessing**\n",
        "   - With CatBoost, there is no need for **manual feature engineering** or complex preprocessing steps like **one-hot encoding**, **frequency encoding**, or **label encoding**. The algorithm itself takes care of transforming the categorical variables into useful features.\n",
        "   - This simplicity in preprocessing makes CatBoost easier to use, especially for practitioners who may not have deep expertise in feature engineering.\n",
        "\n",
        "### 5. **Efficient Computation Using Compressed Memory**\n",
        "   - CatBoost uses a **unique approach** to handle categorical features that minimizes memory usage. It efficiently **compresses** the representation of categorical variables, reducing the memory footprint and speeding up computation during training, especially for large datasets with many categorical features.\n",
        "   - This efficiency in memory and computation makes CatBoost particularly suitable for large-scale datasets where categorical features are present in high numbers.\n",
        "\n",
        "### 6. **Multi-threading and GPU Support**\n",
        "   - CatBoost is optimized for high performance. It supports **multi-threading** and **GPU acceleration**, which makes it scalable to large datasets and capable of training models quickly, even when dealing with high-cardinality categorical features. This allows for faster experimentation and model tuning.\n",
        "\n",
        "### 7. **Robust to Categorical Feature Variations**\n",
        "   - CatBoost is designed to be robust against **variations** in categorical features, such as the presence of **new categories** in test data that were not seen during training. It can handle **out-of-vocabulary categories** (categories in test data that were not present during training) in a way that does not significantly degrade model performance.\n",
        "   - By using **ordered statistics** and an **efficient encoding scheme**, CatBoost can handle previously unseen categories effectively, unlike some other models that would require specific handling or fail to generalize well.\n",
        "\n",
        "### 8. **Efficient Training with Categorical Data**\n",
        "   - During the training process, CatBoost uses **gradient boosting** while ensuring that categorical features are handled with minimal computational overhead. By leveraging the target statistics and efficient encoding methods, it reduces the amount of computation required when working with categorical features.\n",
        "   - This efficiency is key for both small and large datasets, allowing for faster training times and better scalability.\n",
        "\n",
        "### 9. **Automatic Handling of Missing Values**\n",
        "   - CatBoost can also automatically handle **missing values** in categorical features. It assigns a default value to missing categories that optimizes the model's predictive accuracy without the need for imputation or other preprocessing steps.\n",
        "\n",
        "---\n",
        "\n",
        "### Summary of Why CatBoost is Efficient for Categorical Data:\n",
        "\n",
        "| **Reason**                                 | **Explanation**                                                                                                                                               |\n",
        "|--------------------------------------------|---------------------------------------------------------------------------------------------------------------------------------------------------------------|\n",
        "| **Direct Handling of Categorical Data**    | No need for one-hot or label encoding; CatBoost processes categorical variables natively.                                                                    |\n",
        "| **Ordered Target Statistics**              | Uses ordered statistics to compute mean target values for categories in a way that prevents data leakage and overfitting.                                      |\n",
        "| **Efficient for High-Cardinality Variables** | Effectively handles categorical features with many unique values without causing dimensionality problems.                                                     |\n",
        "| **Minimal Preprocessing**                  | No need for complex manual encoding or feature engineering, making the model simpler to use.                                                                 |\n",
        "| **Compressed Memory Usage**                | Efficient representation of categorical variables reduces memory usage and speeds up computation, especially on large datasets.                                |\n",
        "| **Robustness to Unseen Categories**        | Handles new categories in test data without significant performance degradation.                                                                             |\n",
        "| **Optimized Training**                     | Uses multi-threading and GPU acceleration for faster training and scalability when handling categorical features.                                              |\n",
        "| **Automatic Missing Value Handling**       | Automatically handles missing categorical values during model training, reducing the need for imputation or manual preprocessing.                              |\n",
        "\n",
        "---\n",
        "\n",
        "### Conclusion:\n",
        "CatBoost’s ability to efficiently handle **categorical features** makes it a powerful tool for datasets with complex categorical variables. By directly processing categorical data using ordered target statistics and other advanced techniques, CatBoost reduces the need for extensive preprocessing, handles high-cardinality variables well, and avoids issues like overfitting and target leakage. This makes CatBoost an excellent choice for problems involving categorical data."
      ],
      "metadata": {
        "id": "4lTU8gVUFgM4"
      }
    },
    {
      "cell_type": "markdown",
      "source": [
        "#Practical Questions"
      ],
      "metadata": {
        "id": "UwL70OE4GBNM"
      }
    },
    {
      "cell_type": "markdown",
      "source": [
        "###QUES.14 Train an AdaBoost Classifier on a sample dataset and print model accuracy."
      ],
      "metadata": {
        "id": "mej3QcH8GJv5"
      }
    },
    {
      "cell_type": "code",
      "source": [
        "\n",
        "\n",
        "from sklearn.ensemble import AdaBoostClassifier\n",
        "from sklearn.datasets import make_classification\n",
        "from sklearn.model_selection import train_test_split\n",
        "from sklearn.metrics import accuracy_score\n",
        "\n",
        "# Generate a sample dataset\n",
        "X, y = make_classification(n_samples=1000, n_features=20, random_state=42)\n",
        "\n",
        "# Split data into training and testing sets\n",
        "X_train, X_test, y_train, y_test = train_test_split(X, y, test_size=0.2, random_state=42)\n",
        "\n",
        "# Initialize and train the AdaBoost Classifier\n",
        "adaboost_model = AdaBoostClassifier(n_estimators=50, random_state=42)  # You can adjust n_estimators\n",
        "adaboost_model.fit(X_train, y_train)\n",
        "\n",
        "# Make predictions on the test set\n",
        "y_pred = adaboost_model.predict(X_test)\n",
        "\n",
        "# Evaluate the model's accuracy\n",
        "accuracy = accuracy_score(y_test, y_pred)\n",
        "print(f\"AdaBoost Classifier Accuracy: {accuracy}\")\n"
      ],
      "metadata": {
        "colab": {
          "base_uri": "https://localhost:8080/"
        },
        "id": "feNXfloIGsqt",
        "outputId": "38275115-0aca-4fd0-c969-01482c393644"
      },
      "execution_count": 1,
      "outputs": [
        {
          "output_type": "stream",
          "name": "stdout",
          "text": [
            "AdaBoost Classifier Accuracy: 0.875\n"
          ]
        }
      ]
    },
    {
      "cell_type": "markdown",
      "source": [
        "###QUES.15 Train an AdaBoost Regressor and evaluate performance using Mean Absolute Error (MAE)."
      ],
      "metadata": {
        "id": "XDAdJJJyHEXZ"
      }
    },
    {
      "cell_type": "code",
      "source": [
        "\n",
        "\n",
        "from sklearn.ensemble import AdaBoostRegressor\n",
        "from sklearn.datasets import make_regression\n",
        "from sklearn.model_selection import train_test_split\n",
        "from sklearn.metrics import mean_absolute_error\n",
        "\n",
        "# Generate a sample regression dataset\n",
        "X, y = make_regression(n_samples=1000, n_features=10, noise=0.1, random_state=42)\n",
        "\n",
        "# Split data into training and testing sets\n",
        "X_train, X_test, y_train, y_test = train_test_split(X, y, test_size=0.2, random_state=42)\n",
        "\n",
        "# Initialize and train the AdaBoost Regressor\n",
        "adaboost_regressor = AdaBoostRegressor(n_estimators=50, random_state=42)  # You can adjust n_estimators\n",
        "adaboost_regressor.fit(X_train, y_train)\n",
        "\n",
        "# Make predictions on the test set\n",
        "y_pred = adaboost_regressor.predict(X_test)\n",
        "\n",
        "# Evaluate the model's Mean Absolute Error (MAE)\n",
        "mae = mean_absolute_error(y_test, y_pred)\n",
        "print(f\"AdaBoost Regressor Mean Absolute Error (MAE): {mae}\")\n"
      ],
      "metadata": {
        "colab": {
          "base_uri": "https://localhost:8080/"
        },
        "id": "7LgvakfoHU32",
        "outputId": "ba8ad4bd-86e1-428a-eed4-0293ac33ab5a"
      },
      "execution_count": 2,
      "outputs": [
        {
          "output_type": "stream",
          "name": "stdout",
          "text": [
            "AdaBoost Regressor Mean Absolute Error (MAE): 48.23397278609185\n"
          ]
        }
      ]
    },
    {
      "cell_type": "markdown",
      "source": [
        "###QUES.16 Train a Gradient Boosting Classifier on the Breast Cancer dataset and print feature importance."
      ],
      "metadata": {
        "id": "Q2otJHuJHmzr"
      }
    },
    {
      "cell_type": "code",
      "source": [
        "\n",
        "\n",
        "from sklearn.ensemble import GradientBoostingClassifier\n",
        "from sklearn.datasets import load_breast_cancer\n",
        "from sklearn.model_selection import train_test_split\n",
        "\n",
        "# Load the Breast Cancer dataset\n",
        "data = load_breast_cancer()\n",
        "X, y = data.data, data.target\n",
        "\n",
        "# Split data into training and testing sets\n",
        "X_train, X_test, y_train, y_test = train_test_split(X, y, test_size=0.2, random_state=42)\n",
        "\n",
        "# Initialize and train the Gradient Boosting Classifier\n",
        "gbc = GradientBoostingClassifier(n_estimators=100, random_state=42)\n",
        "gbc.fit(X_train, y_train)\n",
        "\n",
        "# Print feature importances\n",
        "for i, feature_name in enumerate(data.feature_names):\n",
        "  print(f\"{feature_name}: {gbc.feature_importances_[i]}\")\n"
      ],
      "metadata": {
        "colab": {
          "base_uri": "https://localhost:8080/"
        },
        "id": "fH3qJBtYH853",
        "outputId": "46b0d558-0e53-49af-a904-8761ad9c0eeb"
      },
      "execution_count": 3,
      "outputs": [
        {
          "output_type": "stream",
          "name": "stdout",
          "text": [
            "mean radius: 1.292348076813499e-05\n",
            "mean texture: 0.027804583634348873\n",
            "mean perimeter: 0.00020118364232095282\n",
            "mean area: 0.0004254033042015456\n",
            "mean smoothness: 0.0024666044618570173\n",
            "mean compactness: 0.0029960469868226245\n",
            "mean concavity: 0.0009222332874449441\n",
            "mean concave points: 0.4505275876506107\n",
            "mean symmetry: 0.0005199404606719796\n",
            "mean fractal dimension: 0.00010669160100635732\n",
            "radius error: 0.006870207891017868\n",
            "texture error: 0.003604013810768886\n",
            "perimeter error: 0.001156802373414802\n",
            "area error: 0.008415272506866505\n",
            "smoothness error: 0.0005564528920603285\n",
            "compactness error: 0.0025106349835955057\n",
            "concavity error: 0.013067922820320132\n",
            "concave points error: 0.0020381084784025583\n",
            "symmetry error: 0.0007028625799243465\n",
            "fractal dimension error: 0.004223933303430293\n",
            "worst radius: 0.075588875185215\n",
            "worst texture: 0.03988648003422685\n",
            "worst perimeter: 0.05140821113749899\n",
            "worst area: 0.0382446945612126\n",
            "worst smoothness: 0.004810830759634738\n",
            "worst compactness: 0.00045012158464117027\n",
            "worst concavity: 0.018724975674124462\n",
            "worst concave points: 0.24010308555229953\n",
            "worst symmetry: 0.0014780084320603433\n",
            "worst fractal dimension: 0.0001753069292319898\n"
          ]
        }
      ]
    },
    {
      "cell_type": "markdown",
      "source": [
        "###QUES.17 Train a Gradient Boosting Regressor and evaluate using R-Squared Score."
      ],
      "metadata": {
        "id": "3EvqB8bMIBKa"
      }
    },
    {
      "cell_type": "code",
      "source": [
        "\n",
        "\n",
        "from sklearn.ensemble import GradientBoostingRegressor\n",
        "from sklearn.model_selection import train_test_split\n",
        "from sklearn.metrics import r2_score\n",
        "from sklearn.datasets import make_regression\n",
        "\n",
        "# Generate a sample regression dataset\n",
        "X, y = make_regression(n_samples=1000, n_features=10, noise=0.1, random_state=42)\n",
        "\n",
        "# Split data into training and testing sets\n",
        "X_train, X_test, y_train, y_test = train_test_split(X, y, test_size=0.2, random_state=42)\n",
        "\n",
        "# Initialize and train the Gradient Boosting Regressor\n",
        "gbr = GradientBoostingRegressor(n_estimators=100, random_state=42)\n",
        "gbr.fit(X_train, y_train)\n",
        "\n",
        "# Make predictions on the test set\n",
        "y_pred = gbr.predict(X_test)\n",
        "\n",
        "# Evaluate the model using R-squared score\n",
        "r2 = r2_score(y_test, y_pred)\n",
        "print(f\"Gradient Boosting Regressor R-squared Score: {r2}\")\n"
      ],
      "metadata": {
        "colab": {
          "base_uri": "https://localhost:8080/"
        },
        "id": "fyM7_FQ_IhNJ",
        "outputId": "08e71e3b-8726-4e31-9bc5-6503654c2647"
      },
      "execution_count": 4,
      "outputs": [
        {
          "output_type": "stream",
          "name": "stdout",
          "text": [
            "Gradient Boosting Regressor R-squared Score: 0.9268126639292507\n"
          ]
        }
      ]
    },
    {
      "cell_type": "markdown",
      "source": [
        "###QUES.18 Train an XGBoost Classifier on a dataset and compare accuracy with Gradient Boosting."
      ],
      "metadata": {
        "id": "Cz5cT1OIItWE"
      }
    },
    {
      "cell_type": "code",
      "source": [
        "\n",
        "\n",
        "import xgboost as xgb\n",
        "from sklearn.ensemble import GradientBoostingClassifier\n",
        "from sklearn.datasets import make_classification\n",
        "from sklearn.model_selection import train_test_split\n",
        "from sklearn.metrics import accuracy_score\n",
        "\n",
        "# Generate a sample dataset\n",
        "X, y = make_classification(n_samples=1000, n_features=20, random_state=42)\n",
        "\n",
        "# Split data into training and testing sets\n",
        "X_train, X_test, y_train, y_test = train_test_split(X, y, test_size=0.2, random_state=42)\n",
        "\n",
        "# Initialize and train the XGBoost Classifier\n",
        "xgb_model = xgb.XGBClassifier(random_state=42)\n",
        "xgb_model.fit(X_train, y_train)\n",
        "\n",
        "# Make predictions on the test set\n",
        "y_pred_xgb = xgb_model.predict(X_test)\n",
        "\n",
        "# Evaluate the XGBoost model's accuracy\n",
        "accuracy_xgb = accuracy_score(y_test, y_pred_xgb)\n",
        "print(f\"XGBoost Classifier Accuracy: {accuracy_xgb}\")\n",
        "\n",
        "# Initialize and train the Gradient Boosting Classifier\n",
        "gb_model = GradientBoostingClassifier(random_state=42)\n",
        "gb_model.fit(X_train, y_train)\n",
        "\n",
        "# Make predictions on the test set\n",
        "y_pred_gb = gb_model.predict(X_test)\n",
        "\n",
        "# Evaluate the Gradient Boosting model's accuracy\n",
        "accuracy_gb = accuracy_score(y_test, y_pred_gb)\n",
        "print(f\"Gradient Boosting Classifier Accuracy: {accuracy_gb}\")\n",
        "\n",
        "# Compare the accuracies\n",
        "print(f\"Accuracy Difference (XGBoost - Gradient Boosting): {accuracy_xgb - accuracy_gb}\")\n"
      ],
      "metadata": {
        "colab": {
          "base_uri": "https://localhost:8080/"
        },
        "id": "_GDMWY5bJIHF",
        "outputId": "c8235a52-4632-458f-e2e2-f2d5b361df5f"
      },
      "execution_count": 5,
      "outputs": [
        {
          "output_type": "stream",
          "name": "stdout",
          "text": [
            "XGBoost Classifier Accuracy: 0.895\n",
            "Gradient Boosting Classifier Accuracy: 0.915\n",
            "Accuracy Difference (XGBoost - Gradient Boosting): -0.020000000000000018\n"
          ]
        }
      ]
    },
    {
      "cell_type": "markdown",
      "source": [
        "###QUES.19 Train a CatBoost Classifier and evaluate using F1-Score."
      ],
      "metadata": {
        "id": "4jaj5J1aJQOb"
      }
    },
    {
      "cell_type": "code",
      "source": [
        "\n",
        "\n",
        "!pip install catboost\n",
        "from sklearn.datasets import make_classification\n",
        "from sklearn.model_selection import train_test_split\n",
        "from sklearn.metrics import f1_score\n",
        "from catboost import CatBoostClassifier\n",
        "\n",
        "# Generate a sample dataset\n",
        "X, y = make_classification(n_samples=1000, n_features=20, random_state=42)\n",
        "\n",
        "# Split data into training and testing sets\n",
        "X_train, X_test, y_train, y_test = train_test_split(X, y, test_size=0.2, random_state=42)\n",
        "\n",
        "# Initialize and train the CatBoost Classifier\n",
        "catboost_model = CatBoostClassifier(iterations=100, random_seed=42, verbose=0) # Adjust iterations as needed\n",
        "catboost_model.fit(X_train, y_train)\n",
        "\n",
        "# Make predictions on the test set\n",
        "y_pred = catboost_model.predict(X_test)\n",
        "\n",
        "# Evaluate the model using F1-score\n",
        "f1 = f1_score(y_test, y_pred)\n",
        "print(f\"CatBoost Classifier F1-Score: {f1}\")\n"
      ],
      "metadata": {
        "colab": {
          "base_uri": "https://localhost:8080/"
        },
        "id": "WJxLUGBBJjCQ",
        "outputId": "59d69cdb-479c-4513-f3e6-ca61b7793bdc"
      },
      "execution_count": 6,
      "outputs": [
        {
          "output_type": "stream",
          "name": "stdout",
          "text": [
            "Collecting catboost\n",
            "  Downloading catboost-1.2.7-cp311-cp311-manylinux2014_x86_64.whl.metadata (1.2 kB)\n",
            "Requirement already satisfied: graphviz in /usr/local/lib/python3.11/dist-packages (from catboost) (0.20.3)\n",
            "Requirement already satisfied: matplotlib in /usr/local/lib/python3.11/dist-packages (from catboost) (3.10.0)\n",
            "Requirement already satisfied: numpy<2.0,>=1.16.0 in /usr/local/lib/python3.11/dist-packages (from catboost) (1.26.4)\n",
            "Requirement already satisfied: pandas>=0.24 in /usr/local/lib/python3.11/dist-packages (from catboost) (2.2.2)\n",
            "Requirement already satisfied: scipy in /usr/local/lib/python3.11/dist-packages (from catboost) (1.14.1)\n",
            "Requirement already satisfied: plotly in /usr/local/lib/python3.11/dist-packages (from catboost) (5.24.1)\n",
            "Requirement already satisfied: six in /usr/local/lib/python3.11/dist-packages (from catboost) (1.17.0)\n",
            "Requirement already satisfied: python-dateutil>=2.8.2 in /usr/local/lib/python3.11/dist-packages (from pandas>=0.24->catboost) (2.8.2)\n",
            "Requirement already satisfied: pytz>=2020.1 in /usr/local/lib/python3.11/dist-packages (from pandas>=0.24->catboost) (2025.1)\n",
            "Requirement already satisfied: tzdata>=2022.7 in /usr/local/lib/python3.11/dist-packages (from pandas>=0.24->catboost) (2025.1)\n",
            "Requirement already satisfied: contourpy>=1.0.1 in /usr/local/lib/python3.11/dist-packages (from matplotlib->catboost) (1.3.1)\n",
            "Requirement already satisfied: cycler>=0.10 in /usr/local/lib/python3.11/dist-packages (from matplotlib->catboost) (0.12.1)\n",
            "Requirement already satisfied: fonttools>=4.22.0 in /usr/local/lib/python3.11/dist-packages (from matplotlib->catboost) (4.56.0)\n",
            "Requirement already satisfied: kiwisolver>=1.3.1 in /usr/local/lib/python3.11/dist-packages (from matplotlib->catboost) (1.4.8)\n",
            "Requirement already satisfied: packaging>=20.0 in /usr/local/lib/python3.11/dist-packages (from matplotlib->catboost) (24.2)\n",
            "Requirement already satisfied: pillow>=8 in /usr/local/lib/python3.11/dist-packages (from matplotlib->catboost) (11.1.0)\n",
            "Requirement already satisfied: pyparsing>=2.3.1 in /usr/local/lib/python3.11/dist-packages (from matplotlib->catboost) (3.2.1)\n",
            "Requirement already satisfied: tenacity>=6.2.0 in /usr/local/lib/python3.11/dist-packages (from plotly->catboost) (9.0.0)\n",
            "Downloading catboost-1.2.7-cp311-cp311-manylinux2014_x86_64.whl (98.7 MB)\n",
            "\u001b[2K   \u001b[90m━━━━━━━━━━━━━━━━━━━━━━━━━━━━━━━━━━━━━━━━\u001b[0m \u001b[32m98.7/98.7 MB\u001b[0m \u001b[31m6.3 MB/s\u001b[0m eta \u001b[36m0:00:00\u001b[0m\n",
            "\u001b[?25hInstalling collected packages: catboost\n",
            "Successfully installed catboost-1.2.7\n",
            "CatBoost Classifier F1-Score: 0.8921568627450981\n"
          ]
        }
      ]
    },
    {
      "cell_type": "markdown",
      "source": [
        "###QUES.20 Train an XGBoost Regressor and evaluate using Mean Squared Error (MSE)."
      ],
      "metadata": {
        "id": "jwoM6k6SJpmn"
      }
    },
    {
      "cell_type": "code",
      "source": [
        "\n",
        "\n",
        "import xgboost as xgb\n",
        "from sklearn.datasets import make_regression\n",
        "from sklearn.model_selection import train_test_split\n",
        "from sklearn.metrics import mean_squared_error\n",
        "\n",
        "# Generate a sample regression dataset\n",
        "X, y = make_regression(n_samples=1000, n_features=10, noise=0.1, random_state=42)\n",
        "\n",
        "# Split data into training and testing sets\n",
        "X_train, X_test, y_train, y_test = train_test_split(X, y, test_size=0.2, random_state=42)\n",
        "\n",
        "# Initialize and train the XGBoost Regressor\n",
        "xgb_regressor = xgb.XGBRegressor(objective='reg:squarederror', random_state=42) # Use reg:squarederror for MSE\n",
        "xgb_regressor.fit(X_train, y_train)\n",
        "\n",
        "# Make predictions on the test set\n",
        "y_pred = xgb_regressor.predict(X_test)\n",
        "\n",
        "# Evaluate the model using Mean Squared Error (MSE)\n",
        "mse = mean_squared_error(y_test, y_pred)\n",
        "print(f\"XGBoost Regressor Mean Squared Error (MSE): {mse}\")\n"
      ],
      "metadata": {
        "colab": {
          "base_uri": "https://localhost:8080/"
        },
        "id": "dpDma4pBJ9ws",
        "outputId": "5dd7e679-f765-4efb-ece5-2a58a09a22c6"
      },
      "execution_count": 7,
      "outputs": [
        {
          "output_type": "stream",
          "name": "stdout",
          "text": [
            "XGBoost Regressor Mean Squared Error (MSE): 1709.6566968047127\n"
          ]
        }
      ]
    },
    {
      "cell_type": "markdown",
      "source": [
        "###QUES.21 Train an AdaBoost Classifier and visualize feature importance."
      ],
      "metadata": {
        "id": "AsyIIYfVKFg4"
      }
    },
    {
      "cell_type": "code",
      "source": [
        "\n",
        "\n",
        "import matplotlib.pyplot as plt\n",
        "# ... (Your existing code)\n",
        "\n",
        "# Get feature importances from the trained AdaBoost model\n",
        "feature_importances = adaboost_model.feature_importances_\n",
        "\n",
        "# Create a feature importance plot\n",
        "plt.figure(figsize=(10, 6))\n",
        "plt.barh(range(X.shape[1]), feature_importances, align='center')\n",
        "plt.yticks(range(X.shape[1]), [f\"Feature {i+1}\" for i in range(X.shape[1])]) # Replace with actual feature names if available\n",
        "plt.xlabel(\"Feature Importance\")\n",
        "plt.ylabel(\"Feature\")\n",
        "plt.title(\"AdaBoost Classifier Feature Importance\")\n",
        "plt.show()\n"
      ],
      "metadata": {
        "colab": {
          "base_uri": "https://localhost:8080/",
          "height": 564
        },
        "id": "qDLl-tNRQGJE",
        "outputId": "143dc0ea-1446-45e0-eb2b-3800c638d3ed"
      },
      "execution_count": 26,
      "outputs": [
        {
          "output_type": "display_data",
          "data": {
            "text/plain": [
              "<Figure size 1000x600 with 1 Axes>"
            ],
            "image/png": "[encoded data removed]"
          },
          "metadata": {}
        }
      ]
    },
    {
      "cell_type": "markdown",
      "source": [
        "###QUES.22 Train a Gradient Boosting Regressor and plot learning curves."
      ],
      "metadata": {
        "id": "jHtjXwPoLXvg"
      }
    },
    {
      "cell_type": "code",
      "source": [
        "\n",
        "\n",
        "import matplotlib.pyplot as plt\n",
        "from sklearn.model_selection import learning_curve\n",
        "\n",
        "# Generate a sample regression dataset\n",
        "X, y = make_regression(n_samples=1000, n_features=10, noise=0.1, random_state=42)\n",
        "\n",
        "# Split data into training and testing sets\n",
        "X_train, X_test, y_train, y_test = train_test_split(X, y, test_size=0.2, random_state=42)\n",
        "\n",
        "# Initialize and train the Gradient Boosting Regressor\n",
        "gbr = GradientBoostingRegressor(n_estimators=100, random_state=42)\n",
        "\n",
        "# Generate learning curves\n",
        "train_sizes, train_scores, test_scores = learning_curve(\n",
        "    estimator=gbr, X=X_train, y=y_train, train_sizes=np.linspace(0.1, 1.0, 10), cv=5, scoring='neg_mean_squared_error'\n",
        ")\n",
        "\n",
        "\n",
        "# Calculate mean and standard deviation of scores\n",
        "train_scores_mean = -np.mean(train_scores, axis=1)\n",
        "train_scores_std = np.std(train_scores, axis=1)\n",
        "test_scores_mean = -np.mean(test_scores, axis=1)\n",
        "test_scores_std = np.std(test_scores, axis=1)\n",
        "\n",
        "# Plot learning curves\n",
        "plt.figure(figsize=(8, 6))\n",
        "plt.plot(train_sizes, train_scores_mean, label='Training Error')\n",
        "plt.plot(train_sizes, test_scores_mean, label='Validation Error')\n",
        "plt.fill_between(train_sizes, train_scores_mean - train_scores_std, train_scores_mean + train_scores_std, alpha=0.1)\n",
        "plt.fill_between(train_sizes, test_scores_mean - test_scores_std, test_scores_mean + test_scores_std, alpha=0.1)\n",
        "\n",
        "plt.xlabel('Training Set Size')\n",
        "plt.ylabel('Mean Squared Error')\n",
        "plt.title('Learning Curves for Gradient Boosting Regressor')\n",
        "plt.legend()\n",
        "plt.grid(True)\n",
        "plt.show()\n"
      ],
      "metadata": {
        "colab": {
          "base_uri": "https://localhost:8080/",
          "height": 564
        },
        "id": "3r01xCCZMQhu",
        "outputId": "d3ab6654-7855-4898-dd25-abea8e8aa02f"
      },
      "execution_count": 15,
      "outputs": [
        {
          "output_type": "display_data",
          "data": {
            "text/plain": [
              "<Figure size 800x600 with 1 Axes>"
            ],
            "image/png": "[encoded data removed]"
          },
          "metadata": {}
        }
      ]
    },
    {
      "cell_type": "markdown",
      "source": [
        "###QUES.23 Train an XGBoost Classifier and visualize feature importance."
      ],
      "metadata": {
        "id": "XQEipqsmMhhY"
      }
    },
    {
      "cell_type": "code",
      "source": [
        "\n",
        "\n",
        "import xgboost as xgb\n",
        "import matplotlib.pyplot as plt\n",
        "from sklearn.datasets import make_classification\n",
        "from sklearn.model_selection import train_test_split\n",
        "import numpy as np\n",
        "\n",
        "# Generate a sample dataset\n",
        "X, y = make_classification(n_samples=1000, n_features=20, random_state=42)\n",
        "\n",
        "# Split data into training and testing sets\n",
        "X_train, X_test, y_train, y_test = train_test_split(X, y, test_size=0.2, random_state=42)\n",
        "\n",
        "# Initialize and train the XGBoost Classifier\n",
        "xgb_model = xgb.XGBClassifier(random_state=42)\n",
        "xgb_model.fit(X_train, y_train)\n",
        "\n",
        "# Get feature importances\n",
        "feature_importances = xgb_model.feature_importances_\n",
        "\n",
        "# Create a list of feature names (replace with your actual feature names if available)\n",
        "feature_names = [f\"Feature {i}\" for i in range(X.shape[1])]\n",
        "\n",
        "# Sort feature importances in descending order\n",
        "sorted_indices = np.argsort(feature_importances)[::-1]\n",
        "sorted_importances = feature_importances[sorted_indices]\n",
        "sorted_feature_names = [feature_names[i] for i in sorted_indices]\n",
        "\n",
        "# Visualize feature importances\n",
        "plt.figure(figsize=(10, 6))\n",
        "plt.bar(range(X.shape[1]), sorted_importances)\n",
        "plt.xticks(range(X.shape[1]), sorted_feature_names, rotation=90)\n",
        "plt.xlabel('Features')\n",
        "plt.ylabel('Importance')\n",
        "plt.title('XGBoost Feature Importance')\n",
        "plt.tight_layout()\n",
        "plt.show()\n"
      ],
      "metadata": {
        "colab": {
          "base_uri": "https://localhost:8080/",
          "height": 607
        },
        "id": "Ww5N0Ww6M0nI",
        "outputId": "e751459a-0b9e-4c70-e9c5-331706bbad05"
      },
      "execution_count": 16,
      "outputs": [
        {
          "output_type": "display_data",
          "data": {
            "text/plain": [
              "<Figure size 1000x600 with 1 Axes>"
            ],
            "image/png": "[encoded data removed]"
          },
          "metadata": {}
        }
      ]
    },
    {
      "cell_type": "markdown",
      "source": [
        "###QUES.24 Train a CatBoost Classifier and plot the confusion matrix."
      ],
      "metadata": {
        "id": "37mDTPo1M4yI"
      }
    },
    {
      "cell_type": "code",
      "source": [
        "\n",
        "\n",
        "from sklearn.metrics import confusion_matrix\n",
        "import seaborn as sns\n",
        "\n",
        "# ... (Your existing code for training the CatBoost Classifier) ...\n",
        "\n",
        "# Make predictions on the test set\n",
        "y_pred = catboost_model.predict(X_test)\n",
        "\n",
        "# Compute the confusion matrix\n",
        "cm = confusion_matrix(y_test, y_pred)\n",
        "\n",
        "# Plot the confusion matrix\n",
        "plt.figure(figsize=(8, 6))\n",
        "sns.heatmap(cm, annot=True, fmt=\"d\", cmap=\"Blues\",\n",
        "            xticklabels=np.unique(y), yticklabels=np.unique(y))\n",
        "plt.xlabel(\"Predicted Labels\")\n",
        "plt.ylabel(\"True Labels\")\n",
        "plt.title(\"Confusion Matrix for CatBoost Classifier\")\n",
        "plt.show()\n"
      ],
      "metadata": {
        "colab": {
          "base_uri": "https://localhost:8080/",
          "height": 564
        },
        "id": "A4c7f7ygNHk9",
        "outputId": "1c8c6005-b565-4f3a-94dd-c2c59e557bee"
      },
      "execution_count": 17,
      "outputs": [
        {
          "output_type": "display_data",
          "data": {
            "text/plain": [
              "<Figure size 800x600 with 2 Axes>"
            ],
            "image/png": "[encoded data removed]"
          },
          "metadata": {}
        }
      ]
    },
    {
      "cell_type": "markdown",
      "source": [
        "###QUES.25 Train an AdaBoost Classifier with different numbers of estimators and compare accuracy."
      ],
      "metadata": {
        "id": "Y4dzi3WBNLtO"
      }
    },
    {
      "cell_type": "code",
      "source": [
        "\n",
        "\n",
        "# Initialize lists to store the number of estimators and corresponding accuracies\n",
        "n_estimators_list = [10, 50, 100, 200]\n",
        "accuracy_list = []\n",
        "\n",
        "for n_estimators in n_estimators_list:\n",
        "    # Initialize and train the AdaBoost Classifier\n",
        "    adaboost_model = AdaBoostClassifier(n_estimators=n_estimators, random_state=42)\n",
        "    adaboost_model.fit(X_train, y_train)\n",
        "\n",
        "    # Make predictions on the test set\n",
        "    y_pred = adaboost_model.predict(X_test)\n",
        "\n",
        "    # Evaluate the model's accuracy\n",
        "    accuracy = accuracy_score(y_test, y_pred)\n",
        "    accuracy_list.append(accuracy)\n",
        "\n",
        "    print(f\"AdaBoost Classifier Accuracy (n_estimators={n_estimators}): {accuracy}\")\n",
        "\n",
        "# Compare accuracies (you can visualize this using a plot if needed)\n",
        "print(f\"Accuracies for different n_estimators values: {accuracy_list}\")\n"
      ],
      "metadata": {
        "colab": {
          "base_uri": "https://localhost:8080/"
        },
        "id": "MDKJJ_sENgRQ",
        "outputId": "fa65da0a-fcac-4844-e3f8-5a7498303283"
      },
      "execution_count": 18,
      "outputs": [
        {
          "output_type": "stream",
          "name": "stdout",
          "text": [
            "AdaBoost Classifier Accuracy (n_estimators=10): 0.86\n",
            "AdaBoost Classifier Accuracy (n_estimators=50): 0.875\n",
            "AdaBoost Classifier Accuracy (n_estimators=100): 0.865\n",
            "AdaBoost Classifier Accuracy (n_estimators=200): 0.865\n",
            "Accuracies for different n_estimators values: [0.86, 0.875, 0.865, 0.865]\n"
          ]
        }
      ]
    },
    {
      "cell_type": "markdown",
      "source": [
        "###QUES.26 Train a Gradient Boosting Classifier and visualize the ROC curve."
      ],
      "metadata": {
        "id": "xVpNlBPnNngB"
      }
    },
    {
      "cell_type": "code",
      "source": [
        "# Import necessary libraries\n",
        "import numpy as np\n",
        "import matplotlib.pyplot as plt\n",
        "from sklearn.ensemble import GradientBoostingClassifier\n",
        "from sklearn.datasets import load_iris\n",
        "from sklearn.model_selection import train_test_split\n",
        "from sklearn.metrics import roc_curve, auc\n",
        "from sklearn.preprocessing import LabelBinarizer\n",
        "\n",
        "# Load the Iris dataset\n",
        "iris = load_iris()\n",
        "X = iris.data\n",
        "y = iris.target\n",
        "\n",
        "# Split the data into training and testing sets\n",
        "X_train, X_test, y_train, y_test = train_test_split(X, y, test_size=0.3, random_state=42)\n",
        "\n",
        "# Initialize the Gradient Boosting Classifier\n",
        "gbc = GradientBoostingClassifier(n_estimators=100, random_state=42)\n",
        "\n",
        "# Train the model\n",
        "gbc.fit(X_train, y_train)\n",
        "\n",
        "# Predict probabilities for the test set\n"
      ],
      "metadata": {
        "colab": {
          "base_uri": "https://localhost:8080/",
          "height": 80
        },
        "id": "Pawp0zv4N5BZ",
        "outputId": "b17f2c5a-b746-4cec-f7aa-35ce90639c62"
      },
      "execution_count": 21,
      "outputs": [
        {
          "output_type": "execute_result",
          "data": {
            "text/plain": [
              "GradientBoostingClassifier(random_state=42)"
            ],
            "text/html": [
              "<style>#sk-container-id-1 {\n",
              "  /* Definition of color scheme common for light and dark mode */\n",
              "  --sklearn-color-text: #000;\n",
              "  --sklearn-color-text-muted: #666;\n",
              "  --sklearn-color-line: gray;\n",
              "  /* Definition of color scheme for unfitted estimators */\n",
              "  --sklearn-color-unfitted-level-0: #fff5e6;\n",
              "  --sklearn-color-unfitted-level-1: #f6e4d2;\n",
              "  --sklearn-color-unfitted-level-2: #ffe0b3;\n",
              "  --sklearn-color-unfitted-level-3: chocolate;\n",
              "  /* Definition of color scheme for fitted estimators */\n",
              "  --sklearn-color-fitted-level-0: #f0f8ff;\n",
              "  --sklearn-color-fitted-level-1: #d4ebff;\n",
              "  --sklearn-color-fitted-level-2: #b3dbfd;\n",
              "  --sklearn-color-fitted-level-3: cornflowerblue;\n",
              "\n",
              "  /* Specific color for light theme */\n",
              "  --sklearn-color-text-on-default-background: var(--sg-text-color, var(--theme-code-foreground, var(--jp-content-font-color1, black)));\n",
              "  --sklearn-color-background: var(--sg-background-color, var(--theme-background, var(--jp-layout-color0, white)));\n",
              "  --sklearn-color-border-box: var(--sg-text-color, var(--theme-code-foreground, var(--jp-content-font-color1, black)));\n",
              "  --sklearn-color-icon: #696969;\n",
              "\n",
              "  @media (prefers-color-scheme: dark) {\n",
              "    /* Redefinition of color scheme for dark theme */\n",
              "    --sklearn-color-text-on-default-background: var(--sg-text-color, var(--theme-code-foreground, var(--jp-content-font-color1, white)));\n",
              "    --sklearn-color-background: var(--sg-background-color, var(--theme-background, var(--jp-layout-color0, #111)));\n",
              "    --sklearn-color-border-box: var(--sg-text-color, var(--theme-code-foreground, var(--jp-content-font-color1, white)));\n",
              "    --sklearn-color-icon: #878787;\n",
              "  }\n",
              "}\n",
              "\n",
              "#sk-container-id-1 {\n",
              "  color: var(--sklearn-color-text);\n",
              "}\n",
              "\n",
              "#sk-container-id-1 pre {\n",
              "  padding: 0;\n",
              "}\n",
              "\n",
              "#sk-container-id-1 input.sk-hidden--visually {\n",
              "  border: 0;\n",
              "  clip: rect(1px 1px 1px 1px);\n",
              "  clip: rect(1px, 1px, 1px, 1px);\n",
              "  height: 1px;\n",
              "  margin: -1px;\n",
              "  overflow: hidden;\n",
              "  padding: 0;\n",
              "  position: absolute;\n",
              "  width: 1px;\n",
              "}\n",
              "\n",
              "#sk-container-id-1 div.sk-dashed-wrapped {\n",
              "  border: 1px dashed var(--sklearn-color-line);\n",
              "  margin: 0 0.4em 0.5em 0.4em;\n",
              "  box-sizing: border-box;\n",
              "  padding-bottom: 0.4em;\n",
              "  background-color: var(--sklearn-color-background);\n",
              "}\n",
              "\n",
              "#sk-container-id-1 div.sk-container {\n",
              "  /* jupyter's `normalize.less` sets `[hidden] { display: none; }`\n",
              "     but bootstrap.min.css set `[hidden] { display: none !important; }`\n",
              "     so we also need the `!important` here to be able to override the\n",
              "     default hidden behavior on the sphinx rendered scikit-learn.org.\n",
              "     See: https://github.com/scikit-learn/scikit-learn/issues/21755 */\n",
              "  display: inline-block !important;\n",
              "  position: relative;\n",
              "}\n",
              "\n",
              "#sk-container-id-1 div.sk-text-repr-fallback {\n",
              "  display: none;\n",
              "}\n",
              "\n",
              "div.sk-parallel-item,\n",
              "div.sk-serial,\n",
              "div.sk-item {\n",
              "  /* draw centered vertical line to link estimators */\n",
              "  background-image: linear-gradient(var(--sklearn-color-text-on-default-background), var(--sklearn-color-text-on-default-background));\n",
              "  background-size: 2px 100%;\n",
              "  background-repeat: no-repeat;\n",
              "  background-position: center center;\n",
              "}\n",
              "\n",
              "/* Parallel-specific style estimator block */\n",
              "\n",
              "#sk-container-id-1 div.sk-parallel-item::after {\n",
              "  content: \"\";\n",
              "  width: 100%;\n",
              "  border-bottom: 2px solid var(--sklearn-color-text-on-default-background);\n",
              "  flex-grow: 1;\n",
              "}\n",
              "\n",
              "#sk-container-id-1 div.sk-parallel {\n",
              "  display: flex;\n",
              "  align-items: stretch;\n",
              "  justify-content: center;\n",
              "  background-color: var(--sklearn-color-background);\n",
              "  position: relative;\n",
              "}\n",
              "\n",
              "#sk-container-id-1 div.sk-parallel-item {\n",
              "  display: flex;\n",
              "  flex-direction: column;\n",
              "}\n",
              "\n",
              "#sk-container-id-1 div.sk-parallel-item:first-child::after {\n",
              "  align-self: flex-end;\n",
              "  width: 50%;\n",
              "}\n",
              "\n",
              "#sk-container-id-1 div.sk-parallel-item:last-child::after {\n",
              "  align-self: flex-start;\n",
              "  width: 50%;\n",
              "}\n",
              "\n",
              "#sk-container-id-1 div.sk-parallel-item:only-child::after {\n",
              "  width: 0;\n",
              "}\n",
              "\n",
              "/* Serial-specific style estimator block */\n",
              "\n",
              "#sk-container-id-1 div.sk-serial {\n",
              "  display: flex;\n",
              "  flex-direction: column;\n",
              "  align-items: center;\n",
              "  background-color: var(--sklearn-color-background);\n",
              "  padding-right: 1em;\n",
              "  padding-left: 1em;\n",
              "}\n",
              "\n",
              "\n",
              "/* Toggleable style: style used for estimator/Pipeline/ColumnTransformer box that is\n",
              "clickable and can be expanded/collapsed.\n",
              "- Pipeline and ColumnTransformer use this feature and define the default style\n",
              "- Estimators will overwrite some part of the style using the `sk-estimator` class\n",
              "*/\n",
              "\n",
              "/* Pipeline and ColumnTransformer style (default) */\n",
              "\n",
              "#sk-container-id-1 div.sk-toggleable {\n",
              "  /* Default theme specific background. It is overwritten whether we have a\n",
              "  specific estimator or a Pipeline/ColumnTransformer */\n",
              "  background-color: var(--sklearn-color-background);\n",
              "}\n",
              "\n",
              "/* Toggleable label */\n",
              "#sk-container-id-1 label.sk-toggleable__label {\n",
              "  cursor: pointer;\n",
              "  display: flex;\n",
              "  width: 100%;\n",
              "  margin-bottom: 0;\n",
              "  padding: 0.5em;\n",
              "  box-sizing: border-box;\n",
              "  text-align: center;\n",
              "  align-items: start;\n",
              "  justify-content: space-between;\n",
              "  gap: 0.5em;\n",
              "}\n",
              "\n",
              "#sk-container-id-1 label.sk-toggleable__label .caption {\n",
              "  font-size: 0.6rem;\n",
              "  font-weight: lighter;\n",
              "  color: var(--sklearn-color-text-muted);\n",
              "}\n",
              "\n",
              "#sk-container-id-1 label.sk-toggleable__label-arrow:before {\n",
              "  /* Arrow on the left of the label */\n",
              "  content: \"▸\";\n",
              "  float: left;\n",
              "  margin-right: 0.25em;\n",
              "  color: var(--sklearn-color-icon);\n",
              "}\n",
              "\n",
              "#sk-container-id-1 label.sk-toggleable__label-arrow:hover:before {\n",
              "  color: var(--sklearn-color-text);\n",
              "}\n",
              "\n",
              "/* Toggleable content - dropdown */\n",
              "\n",
              "#sk-container-id-1 div.sk-toggleable__content {\n",
              "  max-height: 0;\n",
              "  max-width: 0;\n",
              "  overflow: hidden;\n",
              "  text-align: left;\n",
              "  /* unfitted */\n",
              "  background-color: var(--sklearn-color-unfitted-level-0);\n",
              "}\n",
              "\n",
              "#sk-container-id-1 div.sk-toggleable__content.fitted {\n",
              "  /* fitted */\n",
              "  background-color: var(--sklearn-color-fitted-level-0);\n",
              "}\n",
              "\n",
              "#sk-container-id-1 div.sk-toggleable__content pre {\n",
              "  margin: 0.2em;\n",
              "  border-radius: 0.25em;\n",
              "  color: var(--sklearn-color-text);\n",
              "  /* unfitted */\n",
              "  background-color: var(--sklearn-color-unfitted-level-0);\n",
              "}\n",
              "\n",
              "#sk-container-id-1 div.sk-toggleable__content.fitted pre {\n",
              "  /* unfitted */\n",
              "  background-color: var(--sklearn-color-fitted-level-0);\n",
              "}\n",
              "\n",
              "#sk-container-id-1 input.sk-toggleable__control:checked~div.sk-toggleable__content {\n",
              "  /* Expand drop-down */\n",
              "  max-height: 200px;\n",
              "  max-width: 100%;\n",
              "  overflow: auto;\n",
              "}\n",
              "\n",
              "#sk-container-id-1 input.sk-toggleable__control:checked~label.sk-toggleable__label-arrow:before {\n",
              "  content: \"▾\";\n",
              "}\n",
              "\n",
              "/* Pipeline/ColumnTransformer-specific style */\n",
              "\n",
              "#sk-container-id-1 div.sk-label input.sk-toggleable__control:checked~label.sk-toggleable__label {\n",
              "  color: var(--sklearn-color-text);\n",
              "  background-color: var(--sklearn-color-unfitted-level-2);\n",
              "}\n",
              "\n",
              "#sk-container-id-1 div.sk-label.fitted input.sk-toggleable__control:checked~label.sk-toggleable__label {\n",
              "  background-color: var(--sklearn-color-fitted-level-2);\n",
              "}\n",
              "\n",
              "/* Estimator-specific style */\n",
              "\n",
              "/* Colorize estimator box */\n",
              "#sk-container-id-1 div.sk-estimator input.sk-toggleable__control:checked~label.sk-toggleable__label {\n",
              "  /* unfitted */\n",
              "  background-color: var(--sklearn-color-unfitted-level-2);\n",
              "}\n",
              "\n",
              "#sk-container-id-1 div.sk-estimator.fitted input.sk-toggleable__control:checked~label.sk-toggleable__label {\n",
              "  /* fitted */\n",
              "  background-color: var(--sklearn-color-fitted-level-2);\n",
              "}\n",
              "\n",
              "#sk-container-id-1 div.sk-label label.sk-toggleable__label,\n",
              "#sk-container-id-1 div.sk-label label {\n",
              "  /* The background is the default theme color */\n",
              "  color: var(--sklearn-color-text-on-default-background);\n",
              "}\n",
              "\n",
              "/* On hover, darken the color of the background */\n",
              "#sk-container-id-1 div.sk-label:hover label.sk-toggleable__label {\n",
              "  color: var(--sklearn-color-text);\n",
              "  background-color: var(--sklearn-color-unfitted-level-2);\n",
              "}\n",
              "\n",
              "/* Label box, darken color on hover, fitted */\n",
              "#sk-container-id-1 div.sk-label.fitted:hover label.sk-toggleable__label.fitted {\n",
              "  color: var(--sklearn-color-text);\n",
              "  background-color: var(--sklearn-color-fitted-level-2);\n",
              "}\n",
              "\n",
              "/* Estimator label */\n",
              "\n",
              "#sk-container-id-1 div.sk-label label {\n",
              "  font-family: monospace;\n",
              "  font-weight: bold;\n",
              "  display: inline-block;\n",
              "  line-height: 1.2em;\n",
              "}\n",
              "\n",
              "#sk-container-id-1 div.sk-label-container {\n",
              "  text-align: center;\n",
              "}\n",
              "\n",
              "/* Estimator-specific */\n",
              "#sk-container-id-1 div.sk-estimator {\n",
              "  font-family: monospace;\n",
              "  border: 1px dotted var(--sklearn-color-border-box);\n",
              "  border-radius: 0.25em;\n",
              "  box-sizing: border-box;\n",
              "  margin-bottom: 0.5em;\n",
              "  /* unfitted */\n",
              "  background-color: var(--sklearn-color-unfitted-level-0);\n",
              "}\n",
              "\n",
              "#sk-container-id-1 div.sk-estimator.fitted {\n",
              "  /* fitted */\n",
              "  background-color: var(--sklearn-color-fitted-level-0);\n",
              "}\n",
              "\n",
              "/* on hover */\n",
              "#sk-container-id-1 div.sk-estimator:hover {\n",
              "  /* unfitted */\n",
              "  background-color: var(--sklearn-color-unfitted-level-2);\n",
              "}\n",
              "\n",
              "#sk-container-id-1 div.sk-estimator.fitted:hover {\n",
              "  /* fitted */\n",
              "  background-color: var(--sklearn-color-fitted-level-2);\n",
              "}\n",
              "\n",
              "/* Specification for estimator info (e.g. \"i\" and \"?\") */\n",
              "\n",
              "/* Common style for \"i\" and \"?\" */\n",
              "\n",
              ".sk-estimator-doc-link,\n",
              "a:link.sk-estimator-doc-link,\n",
              "a:visited.sk-estimator-doc-link {\n",
              "  float: right;\n",
              "  font-size: smaller;\n",
              "  line-height: 1em;\n",
              "  font-family: monospace;\n",
              "  background-color: var(--sklearn-color-background);\n",
              "  border-radius: 1em;\n",
              "  height: 1em;\n",
              "  width: 1em;\n",
              "  text-decoration: none !important;\n",
              "  margin-left: 0.5em;\n",
              "  text-align: center;\n",
              "  /* unfitted */\n",
              "  border: var(--sklearn-color-unfitted-level-1) 1pt solid;\n",
              "  color: var(--sklearn-color-unfitted-level-1);\n",
              "}\n",
              "\n",
              ".sk-estimator-doc-link.fitted,\n",
              "a:link.sk-estimator-doc-link.fitted,\n",
              "a:visited.sk-estimator-doc-link.fitted {\n",
              "  /* fitted */\n",
              "  border: var(--sklearn-color-fitted-level-1) 1pt solid;\n",
              "  color: var(--sklearn-color-fitted-level-1);\n",
              "}\n",
              "\n",
              "/* On hover */\n",
              "div.sk-estimator:hover .sk-estimator-doc-link:hover,\n",
              ".sk-estimator-doc-link:hover,\n",
              "div.sk-label-container:hover .sk-estimator-doc-link:hover,\n",
              ".sk-estimator-doc-link:hover {\n",
              "  /* unfitted */\n",
              "  background-color: var(--sklearn-color-unfitted-level-3);\n",
              "  color: var(--sklearn-color-background);\n",
              "  text-decoration: none;\n",
              "}\n",
              "\n",
              "div.sk-estimator.fitted:hover .sk-estimator-doc-link.fitted:hover,\n",
              ".sk-estimator-doc-link.fitted:hover,\n",
              "div.sk-label-container:hover .sk-estimator-doc-link.fitted:hover,\n",
              ".sk-estimator-doc-link.fitted:hover {\n",
              "  /* fitted */\n",
              "  background-color: var(--sklearn-color-fitted-level-3);\n",
              "  color: var(--sklearn-color-background);\n",
              "  text-decoration: none;\n",
              "}\n",
              "\n",
              "/* Span, style for the box shown on hovering the info icon */\n",
              ".sk-estimator-doc-link span {\n",
              "  display: none;\n",
              "  z-index: 9999;\n",
              "  position: relative;\n",
              "  font-weight: normal;\n",
              "  right: .2ex;\n",
              "  padding: .5ex;\n",
              "  margin: .5ex;\n",
              "  width: min-content;\n",
              "  min-width: 20ex;\n",
              "  max-width: 50ex;\n",
              "  color: var(--sklearn-color-text);\n",
              "  box-shadow: 2pt 2pt 4pt #999;\n",
              "  /* unfitted */\n",
              "  background: var(--sklearn-color-unfitted-level-0);\n",
              "  border: .5pt solid var(--sklearn-color-unfitted-level-3);\n",
              "}\n",
              "\n",
              ".sk-estimator-doc-link.fitted span {\n",
              "  /* fitted */\n",
              "  background: var(--sklearn-color-fitted-level-0);\n",
              "  border: var(--sklearn-color-fitted-level-3);\n",
              "}\n",
              "\n",
              ".sk-estimator-doc-link:hover span {\n",
              "  display: block;\n",
              "}\n",
              "\n",
              "/* \"?\"-specific style due to the `<a>` HTML tag */\n",
              "\n",
              "#sk-container-id-1 a.estimator_doc_link {\n",
              "  float: right;\n",
              "  font-size: 1rem;\n",
              "  line-height: 1em;\n",
              "  font-family: monospace;\n",
              "  background-color: var(--sklearn-color-background);\n",
              "  border-radius: 1rem;\n",
              "  height: 1rem;\n",
              "  width: 1rem;\n",
              "  text-decoration: none;\n",
              "  /* unfitted */\n",
              "  color: var(--sklearn-color-unfitted-level-1);\n",
              "  border: var(--sklearn-color-unfitted-level-1) 1pt solid;\n",
              "}\n",
              "\n",
              "#sk-container-id-1 a.estimator_doc_link.fitted {\n",
              "  /* fitted */\n",
              "  border: var(--sklearn-color-fitted-level-1) 1pt solid;\n",
              "  color: var(--sklearn-color-fitted-level-1);\n",
              "}\n",
              "\n",
              "/* On hover */\n",
              "#sk-container-id-1 a.estimator_doc_link:hover {\n",
              "  /* unfitted */\n",
              "  background-color: var(--sklearn-color-unfitted-level-3);\n",
              "  color: var(--sklearn-color-background);\n",
              "  text-decoration: none;\n",
              "}\n",
              "\n",
              "#sk-container-id-1 a.estimator_doc_link.fitted:hover {\n",
              "  /* fitted */\n",
              "  background-color: var(--sklearn-color-fitted-level-3);\n",
              "}\n",
              "</style><div id=\"sk-container-id-1\" class=\"sk-top-container\"><div class=\"sk-text-repr-fallback\"><pre>GradientBoostingClassifier(random_state=42)</pre><b>In a Jupyter environment, please rerun this cell to show the HTML representation or trust the notebook. <br />On GitHub, the HTML representation is unable to render, please try loading this page with nbviewer.org.</b></div><div class=\"sk-container\" hidden><div class=\"sk-item\"><div class=\"sk-estimator fitted sk-toggleable\"><input class=\"sk-toggleable__control sk-hidden--visually\" id=\"sk-estimator-id-1\" type=\"checkbox\" checked><label for=\"sk-estimator-id-1\" class=\"sk-toggleable__label fitted sk-toggleable__label-arrow\"><div><div>GradientBoostingClassifier</div></div><div><a class=\"sk-estimator-doc-link fitted\" rel=\"noreferrer\" target=\"_blank\" href=\"https://scikit-learn.org/1.6/modules/generated/sklearn.ensemble.GradientBoostingClassifier.html\">?<span>Documentation for GradientBoostingClassifier</span></a><span class=\"sk-estimator-doc-link fitted\">i<span>Fitted</span></span></div></label><div class=\"sk-toggleable__content fitted\"><pre>GradientBoostingClassifier(random_state=42)</pre></div> </div></div></div></div>"
            ]
          },
          "metadata": {},
          "execution_count": 21
        }
      ]
    },
    {
      "cell_type": "markdown",
      "source": [
        "###QUES.27 Train an XGBoost Regressor and tune the learning rate using GridSearchCV."
      ],
      "metadata": {
        "id": "2JfM29HXOId2"
      }
    },
    {
      "cell_type": "code",
      "source": [
        "\n",
        "\n",
        "from sklearn.model_selection import GridSearchCV\n",
        "\n",
        "# Generate a sample regression dataset\n",
        "X, y = make_regression(n_samples=1000, n_features=10, noise=0.1, random_state=42)\n",
        "\n",
        "# Split data into training and testing sets\n",
        "X_train, X_test, y_train, y_test = train_test_split(X, y, test_size=0.2, random_state=42)\n",
        "\n",
        "# Initialize the XGBoost Regressor\n",
        "xgb_regressor = xgb.XGBRegressor(objective='reg:squarederror', random_state=42)\n",
        "\n",
        "# Define the parameter grid for hyperparameter tuning\n",
        "param_grid = {\n",
        "    'learning_rate': [0.01, 0.1, 0.2, 0.3]\n",
        "}\n",
        "\n",
        "# Initialize GridSearchCV\n",
        "grid_search = GridSearchCV(estimator=xgb_regressor, param_grid=param_grid, scoring='neg_mean_squared_error', cv=5)\n",
        "\n",
        "# Fit GridSearchCV to the training data\n",
        "grid_search.fit(X_train, y_train)\n",
        "\n",
        "# Print the best hyperparameters and corresponding score\n",
        "print(\"Best hyperparameters:\", grid_search.best_params_)\n",
        "print(\"Best score:\", grid_search.best_score_)\n",
        "\n",
        "# Evaluate the best model on the test set\n",
        "best_xgb_model = grid_search.best_estimator_\n",
        "y_pred = best_xgb_model.predict(X_test)\n",
        "mse = mean_squared_error(y_test, y_pred)\n",
        "print(f\"XGBoost Regressor Mean Squared Error (MSE) with best hyperparameters: {mse}\")\n"
      ],
      "metadata": {
        "colab": {
          "base_uri": "https://localhost:8080/"
        },
        "id": "ho0CL0eoOfip",
        "outputId": "9ae8f826-7f1a-49b1-f13d-4dd427c74447"
      },
      "execution_count": 22,
      "outputs": [
        {
          "output_type": "stream",
          "name": "stdout",
          "text": [
            "Best hyperparameters: {'learning_rate': 0.1}\n",
            "Best score: -2105.5393575911244\n",
            "XGBoost Regressor Mean Squared Error (MSE) with best hyperparameters: 1492.4694369143212\n"
          ]
        }
      ]
    },
    {
      "cell_type": "markdown",
      "source": [
        "###QUES.28 Train a CatBoost Classifier on an imbalanced dataset and compare performance with class weighting.\n"
      ],
      "metadata": {
        "id": "xiOsKIxLOoKU"
      }
    },
    {
      "cell_type": "code",
      "source": [
        "\n",
        "\n",
        "from sklearn.datasets import make_classification\n",
        "from sklearn.model_selection import train_test_split\n",
        "from catboost import CatBoostClassifier\n",
        "from sklearn.metrics import classification_report\n",
        "\n",
        "# Generate an imbalanced dataset\n",
        "X, y = make_classification(n_samples=1000, n_features=20, weights=[0.9, 0.1], random_state=42)\n",
        "\n",
        "# Split data into training and testing sets\n",
        "X_train, X_test, y_train, y_test = train_test_split(X, y, test_size=0.2, random_state=42)\n",
        "\n",
        "# Train CatBoost Classifier without class weights\n",
        "model_no_weights = CatBoostClassifier(iterations=100, random_seed=42, verbose=0)\n",
        "model_no_weights.fit(X_train, y_train)\n",
        "y_pred_no_weights = model_no_weights.predict(X_test)\n",
        "\n",
        "# Evaluate performance without class weights\n",
        "print(\"CatBoost Classifier without class weights:\")\n",
        "print(classification_report(y_test, y_pred_no_weights))\n",
        "\n",
        "\n",
        "# Train CatBoost Classifier with class weights\n",
        "model_with_weights = CatBoostClassifier(iterations=100, random_seed=42, class_weights=[1, 10], verbose=0) # Adjust weights as needed\n",
        "model_with_weights.fit(X_train, y_train)\n",
        "y_pred_with_weights = model_with_weights.predict(X_test)\n",
        "\n",
        "# Evaluate performance with class weights\n",
        "print(\"\\nCatBoost Classifier with class weights:\")\n",
        "print(classification_report(y_test, y_pred_with_weights))\n"
      ],
      "metadata": {
        "colab": {
          "base_uri": "https://localhost:8080/"
        },
        "id": "rOJEGjUSO4pn",
        "outputId": "881c8c64-3be4-4b9c-e90e-737703dfc378"
      },
      "execution_count": 23,
      "outputs": [
        {
          "output_type": "stream",
          "name": "stdout",
          "text": [
            "CatBoost Classifier without class weights:\n",
            "              precision    recall  f1-score   support\n",
            "\n",
            "           0       0.94      1.00      0.97       180\n",
            "           1       1.00      0.45      0.62        20\n",
            "\n",
            "    accuracy                           0.94       200\n",
            "   macro avg       0.97      0.72      0.80       200\n",
            "weighted avg       0.95      0.94      0.94       200\n",
            "\n",
            "\n",
            "CatBoost Classifier with class weights:\n",
            "              precision    recall  f1-score   support\n",
            "\n",
            "           0       0.96      0.97      0.96       180\n",
            "           1       0.67      0.60      0.63        20\n",
            "\n",
            "    accuracy                           0.93       200\n",
            "   macro avg       0.81      0.78      0.80       200\n",
            "weighted avg       0.93      0.93      0.93       200\n",
            "\n"
          ]
        }
      ]
    },
    {
      "cell_type": "markdown",
      "source": [
        "###QUES.29 Train an AdaBoost Classifier and analyze the effect of different learning rates."
      ],
      "metadata": {
        "id": "cVXp8hYwO-bf"
      }
    },
    {
      "cell_type": "code",
      "source": [
        "\n",
        "\n",
        "# Analyze the effect of different learning rates on AdaBoost Classifier\n",
        "\n",
        "learning_rates = [0.1, 0.5, 1.0, 1.5, 2.0]  # Different learning rates to test\n",
        "accuracy_scores = []\n",
        "\n",
        "for learning_rate in learning_rates:\n",
        "    # Initialize and train the AdaBoost Classifier with the current learning rate\n",
        "    adaboost_model = AdaBoostClassifier(n_estimators=50, learning_rate=learning_rate, random_state=42)\n",
        "    adaboost_model.fit(X_train, y_train)\n",
        "\n",
        "    # Make predictions on the test set\n",
        "    y_pred = adaboost_model.predict(X_test)\n",
        "\n",
        "    # Evaluate the model's accuracy\n",
        "    accuracy = accuracy_score(y_test, y_pred)\n",
        "    accuracy_scores.append(accuracy)\n",
        "\n",
        "    print(f\"AdaBoost Classifier Accuracy (learning_rate={learning_rate}): {accuracy}\")\n",
        "\n",
        "# Visualize the results (optional)\n",
        "plt.plot(learning_rates, accuracy_scores, marker='o')\n",
        "plt.xlabel('Learning Rate')\n",
        "plt.ylabel('Accuracy')\n",
        "plt.title('AdaBoost Classifier Accuracy vs. Learning Rate')\n",
        "plt.grid(True)\n",
        "plt.show()\n"
      ],
      "metadata": {
        "colab": {
          "base_uri": "https://localhost:8080/",
          "height": 559
        },
        "id": "RMZq42RiPaE0",
        "outputId": "5da72bab-7061-4eeb-b7b2-eda1573f3231"
      },
      "execution_count": 24,
      "outputs": [
        {
          "output_type": "stream",
          "name": "stdout",
          "text": [
            "AdaBoost Classifier Accuracy (learning_rate=0.1): 0.92\n",
            "AdaBoost Classifier Accuracy (learning_rate=0.5): 0.925\n",
            "AdaBoost Classifier Accuracy (learning_rate=1.0): 0.925\n",
            "AdaBoost Classifier Accuracy (learning_rate=1.5): 0.935\n",
            "AdaBoost Classifier Accuracy (learning_rate=2.0): 0.61\n"
          ]
        },
        {
          "output_type": "display_data",
          "data": {
            "text/plain": [
              "<Figure size 640x480 with 1 Axes>"
            ],
            "image/png": "[encoded data removed]"
          },
          "metadata": {}
        }
      ]
    },
    {
      "cell_type": "markdown",
      "source": [
        "###QUES.30 Train an XGBoost Classifier for multi-class classification and evaluate using log-loss."
      ],
      "metadata": {
        "id": "nOnpuqH-PfMd"
      }
    },
    {
      "cell_type": "code",
      "source": [
        "\n",
        "\n",
        "from sklearn.datasets import make_classification\n",
        "from sklearn.model_selection import train_test_split\n",
        "from sklearn.metrics import log_loss\n",
        "import xgboost as xgb\n",
        "\n",
        "# Generate a multi-class classification dataset\n",
        "X, y = make_classification(n_samples=1000, n_features=20, n_informative=10, n_classes=3, random_state=42)\n",
        "\n",
        "# Split data into training and testing sets\n",
        "X_train, X_test, y_train, y_test = train_test_split(X, y, test_size=0.2, random_state=42)\n",
        "\n",
        "# Initialize and train the XGBoost Classifier\n",
        "xgb_model = xgb.XGBClassifier(objective='multi:softprob', num_class=3, random_state=42) # Use multi:softprob for probabilities\n",
        "xgb_model.fit(X_train, y_train)\n",
        "\n",
        "# Predict probabilities for the test set\n",
        "y_pred_proba = xgb_model.predict_proba(X_test)\n",
        "\n",
        "# Calculate log loss\n",
        "logloss = log_loss(y_test, y_pred_proba)\n",
        "print(f\"XGBoost Classifier Log Loss: {logloss}\")\n"
      ],
      "metadata": {
        "colab": {
          "base_uri": "https://localhost:8080/"
        },
        "id": "fX4q35_APsvg",
        "outputId": "7580e86d-8bbc-4598-acce-3f25f4c49f4a"
      },
      "execution_count": 25,
      "outputs": [
        {
          "output_type": "stream",
          "name": "stdout",
          "text": [
            "XGBoost Classifier Log Loss: 0.40312915577356334\n"
          ]
        }
      ]
    },
    {
      "cell_type": "markdown",
      "source": [
        "#The End"
      ],
      "metadata": {
        "id": "WLdUJFVMQXeP"
      }
    }
  ]
}